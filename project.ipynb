{
 "cells": [
  {
   "cell_type": "markdown",
   "metadata": {},
   "source": [
    "# ***Import Libraries***"
   ]
  },
  {
   "cell_type": "code",
   "execution_count": 63,
   "metadata": {},
   "outputs": [],
   "source": [
    "import os\n",
    "import openai\n",
    "import langchain\n",
    "import pinecone \n",
    "import PyPDF2\n",
    "import uuid\n",
    "import json\n",
    "from typing import List, Dict\n",
    "from tqdm.autonotebook import tqdm\n",
    "from pinecone import Pinecone\n",
    "from pinecone import ServerlessSpec\n",
    "from langchain.document_loaders import PyPDFDirectoryLoader\n",
    "from langchain.docstore.document import Document\n",
    "from langchain.text_splitter import RecursiveCharacterTextSplitter\n",
    "from langchain_community.embeddings import OllamaEmbeddings\n",
    "from llama_index import StorageContext # Configures the settings and parameters for the OpenAI model.\n",
    "from llama_index.vector_stores.pinecone import PineconeVectorStore\n",
    "from transformers import T5Tokenizer, T5ForConditionalGeneration\n",
    "from sentence_transformers import SentenceTransformer\n"
   ]
  },
  {
   "cell_type": "code",
   "execution_count": 2,
   "metadata": {},
   "outputs": [
    {
     "data": {
      "text/plain": [
       "True"
      ]
     },
     "execution_count": 2,
     "metadata": {},
     "output_type": "execute_result"
    }
   ],
   "source": [
    "from dotenv import load_dotenv # To load env variables\n",
    "load_dotenv()"
   ]
  },
  {
   "cell_type": "markdown",
   "metadata": {},
   "source": [
    "# ***Read the document***"
   ]
  },
  {
   "cell_type": "code",
   "execution_count": 3,
   "metadata": {},
   "outputs": [],
   "source": [
    "# Reading a PDF file and extracting text from each page.\n",
    "\n",
    "def read_pdf(file_path: str) -> List[Dict[str, str]]: \n",
    "    \"\"\"\n",
    "    Returns: List[Dict[str, str]]: A list of dictionaries with 'page' and 'content'.\n",
    "    \"\"\"\n",
    "    documents = []\n",
    "    \n",
    "    try:\n",
    "        # Open the PDF file\n",
    "        with open(file_path, 'rb') as pdf_file:\n",
    "            reader = PyPDF2.PdfReader(pdf_file)\n",
    "            for page_number, page in enumerate(reader.pages):\n",
    "                text = page.extract_text()\n",
    "                \n",
    "                # Skip empty pages\n",
    "                if text.strip():\n",
    "                    documents.append({\"page\": page_number + 1, \"content\": text})\n",
    "    except Exception as e:\n",
    "        print(f\"Error reading PDF: {e}\")\n",
    "    \n",
    "    return documents\n"
   ]
  },
  {
   "cell_type": "code",
   "execution_count": 4,
   "metadata": {},
   "outputs": [
    {
     "data": {
      "text/plain": [
       "[{'page': 1,\n",
       "  'content': 'GOVERNMENT OF INDIA\\nBUDGET 2023-2024\\nSPEECH\\nOF\\nNIRMALA SITHARAMAN\\nMINISTER OF FINANCE\\nFebruary 1,  2023'},\n",
       " {'page': 3,\n",
       "  'content': 'CONTENTS \\nPART-A \\n Page No.  \\n\\uf0b7 Introduction 1 \\n\\uf0b7 Achievements since 2014: Leaving no one behind 2 \\n\\uf0b7 Vision for Amrit Kaal  – an empowered and inclusive economy 3 \\n\\uf0b7 Priorities of this Budget 5 \\ni. Inclusive Development  \\nii. Reaching the Last Mile \\niii. Infrastructure and Investment \\niv. Unleashing the Potential \\nv. Green Growth \\nvi. Youth Power  \\nvii. Financial Sector  \\n \\n \\n \\n \\n \\n \\n \\n \\n\\uf0b7 Fiscal Management 24 \\nPART B  \\n  \\nIndirect Taxes  27 \\n\\uf0b7 Green Mobility  \\n\\uf0b7 Electronics   \\n\\uf0b7 Electrical   \\n\\uf0b7 Chemicals and Petrochemicals   \\n\\uf0b7 Marine products  \\n\\uf0b7 Lab Grown Diamonds  \\n\\uf0b7 Precious Metals  \\n\\uf0b7 Metals  \\n\\uf0b7 Compounded Rubber  \\n\\uf0b7 Cigarettes  \\n  \\nDirect Taxes  30 \\n\\uf0b7 MSMEs and Professionals   \\n\\uf0b7 Cooperation  \\n\\uf0b7 Start-Ups  \\n\\uf0b7 Appeals  \\n\\uf0b7 Better targeting of tax concessions  \\n\\uf0b7 Rationalisation  \\n\\uf0b7 Others  \\n\\uf0b7 Personal Income Tax  \\n  \\nAnnexures  35 \\n\\uf0b7 Annexure to Part B of the Budget Speech 2023-24 \\ni. Amendments relating to Direct Taxes \\nii. Amendments relating to Indirect Taxes  \\n '},\n",
       " {'page': 5,\n",
       "  'content': 'Budget 2023-2024 \\n \\nSpeech of  \\nNirmala Sitharaman \\nMinister of Finance \\nFebruary 1, 2023 \\nHon’ble Speaker,  \\n I present the Budget for 2023-24. This is the first Budget in Amrit \\nKaal . \\nIntroduction \\n1. This Budget hopes to build on the foundation laid in the previous \\nBudget, and the blueprint drawn for India@100. We envision a prosperous \\nand inclusive India, in which the fruits of development reach all regions and \\ncitizens, especially our youth, women, farmers, OBCs, Scheduled Castes and \\nScheduled Tribes.  \\n2. In the 75th year of our Independence, the world has recognised the \\nIndian economy as a ‘bright star’. Our current year’s economic growth is \\nestimated to be at 7 per cent. It is notable that this is the highest among all \\nthe major economies. This is in spite of the massive slowdown globally \\ncaused by Covid-19 and a war. The Indian economy is therefore on the right \\ntrack, and despite a time of challenges, heading towards a bright future.  \\n3. Today as Indians stands with their head held high, and the world \\nappreciates India’s achievements and successes, we are sure that elders \\nwho had fought for India’s independence, will with joy, bless us our \\nendeavors going forward. \\nResilience amidst multiple crises \\n4. Our focus on wide-ranging reforms and sound policies, implemented \\nthrough Sabka Prayas  resulting in Jan Bhagidari  and targeted support to \\nthose in need, helped us perform well in trying times. India’s rising global '},\n",
       " {'page': 6,\n",
       "  'content': '2 \\n \\n \\n profile is because of several accomplishments: unique world class digital \\npublic infrastructure, e.g., Aadhaar, Co-Win and UPI; Covid vaccination drive \\nin unparalleled scale and speed; proactive role in frontier areas such as \\nachieving the climate related goals, mission LiFE, and National Hydrogen \\nMission.  \\n5. During the Covid-19 pandemic, we ensured that no one goes to bed \\nhungry, with a scheme to supply free food grains to over 80 crore persons \\nfor 28 months. Continuing our commitment to ensure food and nutritional \\nsecurity, we are implementing, from 1st January 2023, a scheme to supply \\nfree food grain to all Antyodaya and priority households for the next one \\nyear, under PM Garib Kalyan Anna Yojana (PMGKAY). The entire \\nexpenditure of about ` 2 lakh crore will be borne by the Central \\nGovernment. \\nG20 Presidency: Steering the global agenda through challenges \\n6. In these times of global challenges, the G20 Presidency gives us a \\nunique opportunity to strengthen India’s role in the world economic order. \\nWith the theme of ‘ Vasudhaiva Kutumbakam’ , we are steering an \\nambitious, people-centric agenda to address global challenges, and to \\nfacilitate sustainable economic development.  \\nAchievements since 2014: Leaving no one behind \\n7. The government’s efforts since 2014 have ensured for all citizens a \\nbetter quality of living and a life of dignity. The per capita income has more \\nthan doubled to ` 1.97 lakh.   \\n8. In these nine years, the Indian economy has increased in size from \\nbeing 10th to 5th largest in the world. We have significantly improved our \\nposition as a well-governed and innovative country with a conducive \\nenvironment for business as reflected in several global indices. We have \\nmade significant progress in many Sustainable Development Goals.  '},\n",
       " {'page': 7,\n",
       "  'content': '3 \\n \\n \\n 9. The economy has become a lot more formalised as reflected in the \\nEPFO membership more than doubling to 27 crore, and 7,400 crore digital \\npayments of ` 126 lakh crore through UPI in 2022.    \\n10. The efficient implementation of many schemes, with \\nuniversalisation of targeted benefits, has resulted in inclusive development. \\nSome of the schemes are: \\ni. 11.7 crore household toilets under Swachh Bharat Mission,  \\nii. 9.6 crore LPG connections under Ujjawala,  \\niii. 220 crore Covid vaccination of 102 crore persons,    \\niv. 47.8 crore PM Jan Dhan bank accounts, \\nv. Insurance cover for 44.6 crore persons under PM Suraksha \\nBima and PM Jeevan Jyoti Yojana, and \\nvi. Cash transfer of ` 2.2 lakh crore to over 11.4 crore farmers \\nunder PM Kisan Samman Nidhi. \\nVision for Amrit Kaal  – an empowered and inclusive economy \\n11. Our vision for the Amrit Kaal  includes technology-driven and \\nknowledge-based economy with strong public finances, and a robust \\nfinancial sector. To achieve this, Jan Bhagidari through Sabka Saath Sabka \\nPrayas  is essential.   \\n12. The economic agenda for achieving this vision focuses on three \\nthings: first, facilitating ample opportunities for citizens, especially the \\nyouth, to fulfil their aspirations; second, providing strong impetus to growth \\nand job creation; and third, strengthening macro-economic stability.    \\n13. To service these focus areas in our journey to India@100, we believe \\nthat the following four opportunities can be transformative during Amrit \\nKaal.  '},\n",
       " {'page': 8,\n",
       "  'content': '4 \\n \\n \\n 1) Economic Empowerment of Women : Deendayal Antyodaya Yojana \\nNational Rural Livelihood Mission has achieved remarkable success \\nby mobilizing rural women into 81 lakh Self Help Groups. We will \\nenable these groups to reach the next stage of economic \\nempowerment through formation of large producer enterprises or \\ncollectives with each having several thousand members and \\nmanaged professionally. They will be helped with supply of raw \\nmaterials and for better design, quality, branding and marketing of \\ntheir products. Through supporting policies, they will be enabled to \\nscale up their operations to serve the large consumer markets, as \\nhas been the case with several start-ups growing into ‘Unicorns’. \\n2) PM VIshwakarma KAushal Samman (PM VIKAS) : For centuries, \\ntraditional artisans and craftspeople, who work with their hands \\nusing tools, have brought renown for India. They are generally \\nreferred to as Vishwakarma. The art and handicraft created by them \\nrepresents the true spirit of Atmanirbhar Bharat. For the first time, a \\npackage of assistance for them has been conceptualized. The new \\nscheme will enable them to improve the quality, scale and reach of \\ntheir products, integrating them with the MSME value chain. The \\ncomponents of the scheme will include not only financial support \\nbut also access to advanced skill training, knowledge of modern \\ndigital techniques and efficient green technologies, brand \\npromotion, linkage with local and global markets, digital payments, \\nand social security. This will greatly benefit the Scheduled Castes, \\nScheduled Tribes, OBCs, women and people belonging to the weaker \\nsections.  \\n3) Tourism : The country offers immense attraction for domestic as well \\nas foreign tourists. There is a large potential to be tapped in tourism. \\nThe sector holds huge opportunities for jobs and entrepreneurship \\nfor youth in particular.  Promotion of tourism will be taken up on \\nmission mode, with active participation of states, convergence of \\ngovernment programmes and public-private partnerships. '},\n",
       " {'page': 9,\n",
       "  'content': '5 \\n \\n \\n 4) Green Growth: We are implementing many programmes for green \\nfuel, green energy, green farming, green mobility, green buildings, \\nand green equipment, and policies for efficient use of energy across \\nvarious economic sectors. These green growth efforts help in \\nreducing carbon intensity of the economy and provides for large-\\nscale green job opportunities.  \\nPriorities of this Budget  \\n14. The Budget adopts the following seven priorities. They complement \\neach other and act as the ‘Saptarishi’  guiding us through the Amrit Kaal.  \\n1) Inclusive Development  \\n2) Reaching the Last Mile \\n3) Infrastructure and Investment \\n4) Unleashing the Potential \\n5) Green Growth \\n6) Youth Power  \\n7) Financial Sector \\nPriority 1: Inclusive Development  \\n15. The Government’s philosophy of Sabka Saath Sabka Vikas  has \\nfacilitated inclusive development covering in specific, farmers, women, \\nyouth, OBCs, Scheduled Castes, Scheduled Tribes, divyangjan and \\neconomically weaker sections, and overall priority for the underprivileged \\n(vanchiton ko variyata ). There has also been a sustained focus on Jammu & \\nKashmir, Ladakh and the North-East. This Budget builds on those efforts.  \\nAgriculture and Cooperation   \\nDigital Public Infrastructure for Agriculture \\n16. Digital public infrastructure for agriculture will be built as an open \\nsource, open standard and inter operable public good. This will enable '},\n",
       " {'page': 10,\n",
       "  'content': \"6 \\n \\n \\n inclusive, farmer-centric solutions through relevant information services for \\ncrop planning and health, improved access to farm inputs, credit, and \\ninsurance, help for crop estimation, market intelligence, and support for \\ngrowth of agri-tech industry and start-ups.  \\nAgriculture Accelerator Fund  \\n17. An Agriculture Accelerator Fund will be set-up to encourage agri-\\nstartups by young entrepreneurs in rural areas. The Fund will aim at \\nbringing innovative and affordable solutions for challenges faced by \\nfarmers. It will also bring in modern technologies to transform agricultural \\npractices, increase productivity and profitability. \\nEnhancing productivity of cotton crop  \\n18. To enhance the productivity of extra-long staple cotton, we will \\nadopt a cluster-based and value chain approach through Public Private \\nPartnerships (PPP). This will mean collaboration between farmers, state and \\nindustry for input supplies, extension services, and market linkages. \\nAtmanirbhar Horticulture Clean Plant Program  \\n19. We will launch an Atmanirbhar Clean Plant Program to boost \\navailability of disease-free, quality planting material for high value \\nhorticultural crops at an outlay of ` 2,200 crore. \\nGlobal Hub for Millets: ‘Shree Anna’  \\n20. “India is at the forefront of popularizing Millets, whose consumption \\nfurthers nutrition, food security and welfare of farmers,” said Hon’ble Prime \\nMinister. \\n21.  We are the largest producer and second largest exporter of ‘Shree \\nAnna’  in the world. We grow several types of ' Shree Anna'  such as  jowar, \\nragi, bajra, kuttu, ramdana, kangni, kutki, kodo, cheena, and sama. These \\nhave a number of health benefits, and have been an integral part of our \\nfood for centuries. I acknowledge with pride the huge service done by small \"},\n",
       " {'page': 11,\n",
       "  'content': \"7 \\n \\n \\n farmers in contributing to the health of fellow citizens by growing these \\n‘Shree Anna’.   \\n22. Now to make India a global hub for ' Shree Anna' , the Indian Institute \\nof Millet Research, Hyderabad  will be supported as the Centre of Excellence \\nfor sharing best practices, research and technologies at the international \\nlevel.    \\nAgriculture Credit  \\n23. The agriculture credit target will be increased  \\nto ` 20 lakh crore with focus on animal husbandry, dairy and fisheries.  \\nFisheries \\n24. We will launch a new sub-scheme of PM Matsya Sampada Yojana \\nwith targeted investment of ` 6,000 crore to further enable activities of \\nfishermen, fish vendors, and micro & small enterprises, improve value chain \\nefficiencies, and expand the market. \\nCooperation \\n25. For farmers, especially small and marginal farmers, and other \\nmarginalised sections, the government is promoting cooperative-based \\neconomic development model. A new Ministry of Cooperation was formed \\nwith a mandate to realise the vision of ‘Sahakar Se Samriddhi’ . To realise \\nthis vision, the government has already initiated computerisation of 63,000 \\nPrimary Agricultural Credit Societies (PACS) with an investment of ` 2,516 \\ncrore. In consultation with all stakeholders and states, model bye-laws for \\nPACS were formulated enabling them to become multipurpose PACS. A \\nnational cooperative database is being prepared for country-wide mapping \\nof cooperative societies.  \\n26. With this backdrop, we will implement a plan to set up massive \\ndecentralised storage capacity. This will help farmers store their produce \\nand realize remunerative prices through sale at appropriate times. The \\ngovernment will also facilitate setting up of a large number of multipurpose \"},\n",
       " {'page': 12,\n",
       "  'content': '8 \\n \\n \\n cooperative societies, primary fishery societies and dairy cooperative \\nsocieties in uncovered panchayats and villages in the next 5 years.  \\nHealth, Education and Skilling \\nNursing Colleges    \\n27\\n. One hundred and fifty-seven new nursing colleges will be \\nestablished in co-location with the existing 157 medical colleges established \\nsince 2014. \\nSickle Cell Anaemia Elimination Mission  \\n28. A Mission to eliminate Sickle Cell Anaemia by 2047 will be launched. \\nIt will entail awareness creation, universal screening of 7 crore people in the \\nage group of 0-40 years in affected tribal areas, and counselling through \\ncollaborative efforts of central ministries and state governments.  \\nMedical Research  \\n29. Facilities in select ICMR Labs will be made available for research by \\npublic and private medical college faculty and private sector R&D teams for \\nencouraging collaborative research and innovation. \\nPharma Innovation  \\n30. A new programme to promote research and innovation in \\npharmaceuticals will be taken up through centers of excellence. We shall \\nalso encourage industry to invest in research and development in specific \\npriority areas.  \\nMultidisciplinary courses for medical devices \\n31. Dedicated multidisciplinary courses for medical devices will be \\nsupported in existing institutions to ensure availability of skilled manpower \\nfor futuristic medical technologies, high-end manufacturing and research.   \\n '},\n",
       " {'page': 13,\n",
       "  'content': '9 \\n \\n \\n Teachers’ Training \\n32. Teachers’ training will be re-envisioned through innovative \\npedagogy, curriculum transaction, continuous professional development, \\ndipstick surveys, and ICT implementation. The District Institutes of \\nEducation and Training will be developed as vibrant institutes of excellence \\nfor this purpose.   \\nNational Digital Library for Children and Adolescents  \\n33. A National Digital Library for children and adolescents  will be set-up \\nfor facilitating availability of quality books across geographies, languages, \\ngenres and levels, and device agnostic accessibility. States will be \\nencouraged to set up physical libraries for them at panchayat and ward \\nlevels and provide infrastructure for accessing the National Digital Library \\nresources. \\n34. Additionally, to build a culture of reading, and to make up for \\npandemic-time learning loss, the National Book Trust, Children’s Book Trust \\nand other sources will be encouraged to provide and replenish non-\\ncurricular titles in regional languages and English to these physical libraries. \\nCollaboration with NGOs that work in literacy will also be a part of this \\ninitiative. To inculcate financial literacy, financial sector regulators and \\norganizations will be encouraged to provide age-appropriate reading \\nmaterial to these libraries.  \\nPriority 2: Reaching the Last Mile \\n35. Prime Minister Vajpayee’s government had formed the Ministry of \\nTribal Affairs and the Department of Development of North-Eastern Region. \\nTo provide a sharper focus to the objective of ‘reaching the last mile’, our \\ngovernment has formed the ministries of AYUSH, Fisheries, Animal \\nHusbandry and Dairying, Skill Development, Jal Shakti and Cooperation.  \\n \\n '},\n",
       " {'page': 14,\n",
       "  'content': '10 \\n \\n \\n Aspirational Districts and Blocks Programme \\n36. Building on the success of the Aspirational Districts Programme, the \\nGovernment has recently launched the Aspirational Blocks Programme \\ncovering 500 blocks for saturation of essential government services across \\nmultiple domains such as health, nutrition, education, agriculture, water \\nresources, financial inclusion, skill development, and basic infrastructure. \\nPradhan Mantri PVTG Development Mission \\n37. To improve socio-economic conditions of the particularly vulnerable \\ntribal groups (PVTGs), Pradhan Mantri PVTG Development Mission will be \\nlaunched. This will saturate PVTG families and habitations with basic \\nfacilities such as safe housing, clean drinking water and sanitation, \\nimproved access to education, health and nutrition, road and telecom \\nconnectivity, and sustainable livelihood opportunities. An amount  \\nof ` 15,000 crore will be made available to implement the Mission in the \\nnext three years under the Development Action Plan for the Scheduled \\nTribes.  \\nEklavya Model Residential Schools \\n38. In the next three years, centre will recruit 38,800 teachers and \\nsupport staff for the 740 Eklavya Model Residential Schools, serving 3.5 lakh \\ntribal students. \\nWater for Drought Prone Region \\n39. In the drought prone central region of Karnataka, central assistance \\nof ` 5,300 crore will be given to Upper Bhadra Project to provide \\nsustainable micro irrigation and filling up of surface tanks for drinking \\nwater.  \\nPM Awas Yojana \\n40. The outlay for PM Awas Yojana is being enhanced \\n by 66 per cent to over ` 79,000 crore.  '},\n",
       " {'page': 15,\n",
       "  'content': '11 \\n \\n \\n Bharat Shared Repository of Inscriptions (Bharat  SHRI) \\n41. ‘Bharat Shared Repository of Inscriptions’ will be set up in a digital \\nepigraphy museum, with digitization of one lakh ancient inscriptions in the \\nfirst stage.   \\nSupport for poor prisoners \\n42. For poor persons who are in prisons and unable to afford the \\npenalty or the bail amount, required financial support will be provided.   \\n \\nPriority 3: Infrastructure & Investment \\n43. Investments in Infrastructure and productive capacity have a large \\nmultiplier impact on growth and employment. After the subdued period of \\nthe pandemic, private investments are growing again. The Budget takes the \\nlead once again to ramp up the virtuous cycle of investment and job \\ncreation.    \\n \\nCapital Investment as driver of growth and jobs \\n44. Capital investment outlay is being increased steeply for the third \\nyear in a row by 33 per cent to ` 10 lakh crore, which would be 3.3 per cent \\nof GDP. This will be almost three times the outlay in 2019-20.   \\n45. This substantial increase in recent years is central to the \\ngovernment’s efforts to enhance growth potential and job creation, crowd-\\nin private investments, and provide a cushion against global headwinds. \\nEffective Capital Expenditure  \\n46. The direct capital investment by the Centre is complemented by the \\nprovision made for creation of capital assets through Grants-in-Aid to \\nStates. The ‘Effective Capital Expenditure’ of the Centre is budgeted at  \\n` 13.7 lakh crore, which will be 4.5 per cent of GDP.    '},\n",
       " {'page': 16,\n",
       "  'content': '12 \\n \\n \\n Support to State Governments for Capital Investment \\n47. I have decided to continue the 50-year interest free loan to state \\ngovernments for one more year to spur investment in infrastructure and to \\nincentivize them for complementary policy actions, with a significantly \\nenhanced outlay of ` 1.3 lakh crore.   \\nEnhancing opportunities for private investment in Infrastructure \\n48. The newly established Infrastructure Finance Secretariat will assist \\nall stakeholders for more private investment in infrastructure, including \\nrailways, roads, urban infrastructure and power, which are predominantly \\ndependent on public resources.  \\nHarmonized Master List of Infrastructure \\n49. The Harmonized Master List of Infrastructure will be reviewed by an \\nexpert committee for recommending the classification and financing \\nframework suitable for Amrit Kaal . \\nRailways \\n50. A capital outlay of ` 2.40 lakh crore has been provided for the \\nRailways. This highest ever outlay is about 9 times the outlay made in 2013-\\n14.  \\nLogistics \\n51. One hundred critical transport infrastructure projects, for last and \\nfirst mile connectivity for ports, coal, steel, fertilizer, and food grains sectors \\nhave been identified. They will be taken up on priority with investment of \\n` 75,000 crore, including ` 15,000 crore from private sources. \\nRegional Connectivity \\n52. Fifty additional airports, heliports, water aerodromes and advance \\nlanding grounds will be revived for improving regional air connectivity.  \\n '},\n",
       " {'page': 17,\n",
       "  'content': '13 \\n \\n \\n Sustainable Cities of Tomorrow \\n53. States and cities will be encouraged to undertake urban planning \\nreforms and actions to transform our cities into ‘sustainable cities of \\ntomorrow’. This means efficient use of land resources, adequate resources \\nfor urban infrastructure, transit-oriented development, enhanced \\navailability and affordability of urban land, and opportunities for all.  \\nMaking Cities ready for Municipal Bonds \\n54. Through property tax governance reforms and ring-fencing user \\ncharges on urban infrastructure, cities will be incentivized to improve their \\ncredit worthiness for municipal bonds.   \\nUrban Infrastructure Development Fund  \\n55. Like the RIDF, an Urban Infrastructure Development Fund (UIDF) will \\nbe established through use of priority sector lending shortfall. This will be \\nmanaged by the National Housing Bank, and will be used by public agencies \\nto create urban infrastructure in Tier 2 and Tier 3 cities. States will be \\nencouraged to leverage resources from the grants of the 15th Finance \\nCommission, as well as existing schemes, to adopt appropriate user charges \\nwhile accessing the UIDF. We expect to make  \\navailable ` 10,000 crore per annum for this purpose. \\nUrban Sanitation \\n56. All cities and towns will be enabled for 100 per cent mechanical \\ndesludging of septic tanks and sewers to transition from manhole to \\nmachine-hole mode. Enhanced focus will be provided for scientific \\nmanagement of dry and wet waste. \\nPriority 4: Unleashing the Potential \\n57. “Good Governance is the key to a nation’s progress. Our government \\nis committed to providing a transparent and accountable administration \\nwhich works for the betterment and welfare of the common citizen,”  said \\nHon’ble Prime Minister. '},\n",
       " {'page': 18,\n",
       "  'content': '14 \\n \\n \\n Mission Karmayogi \\n58. Under Mission Karmayogi, Centre, States and Union Territories are \\nmaking and implementing capacity-building plans for civil servants. The \\ngovernment has also launched an integrated online training platform, iGOT \\nKarmayogi , to provide continuous learning opportunities for lakhs of \\ngovernment employees to upgrade their skills and facilitate people-centric \\napproach.   \\n59. For enhancing ease of doing business, more than  \\n39,000 compliances have been reduced and more than  \\n3,400 legal provisions have been decriminalized. For furthering the trust-\\nbased governance, we have introduced the Jan Vishwas Bill to amend 42 \\nCentral Acts. This Budget proposes a series of measures to unleash the \\npotential of our economy.  \\nCentres of Excellence for Artificial Intelligence \\n60. For realizing the vision of “Make AI in India and Make AI work for \\nIndia”,  three centres of excellence for Artificial Intelligence will be set-up in \\ntop educational institutions. Leading industry players will partner in \\nconducting interdisciplinary research, develop cutting-edge applications and \\nscalable problem solutions in the areas of agriculture, health, and \\nsustainable cities. This will galvanize an effective AI ecosystem and nurture \\nquality human resources in the field. \\nNational Data Governance Policy  \\n61. To unleash innovation and research by start-ups and academia, a \\nNational Data Governance Policy will be brought out. This will enable access \\nto anonymized data. \\nSimplification of Know Your Customer (KYC) process  \\n62. The KYC process will be simplified adopting a ‘risk-based’ instead of \\n‘one size fits all’ approach. The financial sector regulators will also be '},\n",
       " {'page': 19,\n",
       "  'content': '15 \\n \\n \\n encouraged to have a KYC system fully amenable to meet the needs of \\nDigital India. \\nOne stop solution for identity and address updating  \\n63. A one stop solution for reconciliation and updating of identity and \\naddress of individuals maintained by various government agencies, \\nregulators and regulated entities will be established using DigiLocker service \\nand Aadhaar as foundational identity.    \\nCommon Business Identifier   \\n64. For the business establishments required to have a Permanent \\nAccount Number (PAN), the PAN will be used as the common identifier for \\nall digital systems of specified government agencies. This will bring ease of \\ndoing business; and it will be facilitated through a legal mandate. \\nUnified Filing Process \\n65. For obviating the need for separate submission of same information \\nto different government agencies, a system of ‘Unified Filing Process’ will be \\nset-up. Such filing of information or return in simplified forms on a common \\nportal, will be shared with other agencies as per filer’s choice.  \\nVivad se Vishwas I – Relief for MSMEs  \\n66. In cases of failure by MSMEs to execute contracts during the Covid \\nperiod, 95 per cent of the forfeited amount relating to bid or performance \\nsecurity, will be returned to them by government and government \\nundertakings.  This will provide relief to MSMEs.  \\nVivad se Vishwas II – Settling Contractual Disputes  \\n67. To settle contractual disputes of government and government \\nundertakings, wherein arbitral award is under challenge in a court, a \\nvoluntary settlement scheme with standardized terms will be introduced. \\nThis will be done by offering graded settlement terms depending on \\npendency level of the dispute. '},\n",
       " {'page': 20,\n",
       "  'content': '16 \\n \\n \\n State Support Mission  \\n68. The State Support Mission of NITI Aayog will be continued for three \\nyears for our collective efforts towards national priorities. \\nResult Based Financing  \\n69. To better allocate scarce resources for competing development \\nneeds, the financing of select schemes will be changed, on a pilot basis, \\nfrom ‘input-based’ to ‘result-based’. \\nE-Courts  \\n70. For efficient administration of justice, Phase-3 of the \\n E-Courts project will be launched with an outlay  \\nof ` 7,000 crore.  \\nFintech Services  \\n71. Fintech services in India have been facilitated by our digital public \\ninfrastructure including Aadhaar, PM Jan Dhan Yojana, Video KYC, India \\nStack and UPI. To enable more Fintech innovative services, the scope of \\ndocuments available in DigiLocker for individuals will be expanded.  \\nEntity DigiLocker  \\n72. An Entity DigiLocker will be set up for use by MSMEs, large business \\nand charitable trusts. This will be towards storing and sharing documents \\nonline securely, whenever needed, with various authorities, regulators, \\nbanks and other business entities.  \\n5G Services  \\n73. One hundred labs for developing applications using  \\n5G services will be set up in engineering institutions to realise a new range \\nof opportunities, business models, and employment potential. The  labs will \\ncover, among others, applications such as smart classrooms, precision \\nfarming, intelligent transport systems, and health care applications.   '},\n",
       " {'page': 21,\n",
       "  'content': '17 \\n \\n \\n Lab Grown Diamonds  \\n74. Lab Grown Diamonds (LGD) is a technology-and innovation-driven \\nemerging sector with high employment potential. These environment-\\nfriendly diamonds which have optically and chemically the same properties \\nas natural diamonds. To encourage indigenous production of LGD seeds and \\nmachines and to reduce import dependency, a research and development \\ngrant will be provided to one of the IITs for five years.   \\n75. To reduce the cost of production, a proposal to review the custom \\nduty rate on LGD seeds will be indicated in Part B of the speech.   \\nPriority 5: Green Growth  \\n76. Hon’ble Prime Minister has given a vision for “LiFE”, or Lifestyle for \\nEnvironment, to spur a movement of environmentally conscious lifestyle. \\nIndia is moving forward firmly for the ‘panchamrit’  and net-zero carbon \\nemission by 2070 to usher in green industrial and economic transition. This \\nBudget builds on our focus on green growth.    \\nGreen Hydrogen Mission \\n77. The recently launched National Green Hydrogen Mission, with an \\noutlay of ` 19,700 crores, will facilitate transition of the economy to low \\ncarbon intensity, reduce dependence on fossil fuel imports, and make the \\ncountry assume technology and market leadership in this sunrise sector. \\nOur target is to reach an annual production of 5 MMT by 2030.  \\nEnergy Transition \\n78. This Budget provides ` 35,000 crore for priority capital investments \\ntowards energy transition and net zero objectives, and energy security by \\nMinistry of Petroleum & Natural Gas.  \\nEnergy Storage Projects \\n79. To steer the economy on the sustainable development path, Battery \\nEnergy Storage Systems with capacity of 4,000 MWH will be supported with '},\n",
       " {'page': 22,\n",
       "  'content': '18 \\n \\n \\n Viability Gap Funding. A detailed framework for Pumped Storage Projects \\nwill also be formulated.  \\nRenewable Energy Evacuation \\n80. The Inter-state transmission system for evacuation and grid \\nintegration of 13 GW renewable energy from Ladakh will be constructed \\nwith investment of ` 20,700 crore including central support of ` 8,300 crore. \\nGreen Credit Programme \\n81. For encouraging behavioural change, a Green Credit Programme will \\nbe notified under the Environment (Protection) Act. This will incentivize \\nenvironmentally sustainable and responsive actions by companies, \\nindividuals and local bodies, and help mobilize additional resources for such \\nactivities.  \\nPM-PRANAM \\n82. “PM Programme for Restoration, Awareness, Nourishment and \\nAmelioration of Mother Earth” will be launched to incentivize States and \\nUnion Territories to promote alternative fertilizers and balanced use of \\nchemical fertilizers. \\nGOBARdhan scheme \\n83. 500 new ‘waste to wealth’ plants under GOBARdhan (Galvanizing \\nOrganic Bio-Agro Resources Dhan) scheme will be established for promoting \\ncircular economy. These will include 200 compressed biogas (CBG) plants, \\nincluding 75 plants in urban areas, and 300 community or cluster-based \\nplants at total investment of ` 10,000 crore. I will refer to this in Part B. In \\ndue course, a 5 per cent CBG mandate will be introduced for all \\norganizations marketing natural and bio gas. For collection of bio-mass and \\ndistribution of bio-manure, appropriate fiscal support will be provided.  \\n \\n '},\n",
       " {'page': 23,\n",
       "  'content': '19 \\n \\n \\n Bhartiya Prakritik Kheti Bio-Input Resource Centres    \\n84. Over the next 3 years, we will facilitate 1 crore farmers to adopt \\nnatural farming. For this, 10,000 Bio-Input Resource Centres will be set-up, \\ncreating a national-level distributed micro-fertilizer and pesticide \\nmanufacturing network.  \\nMISHTI \\n85. Building on India’s success in afforestation, ‘Mangrove Initiative for \\nShoreline Habitats & Tangible Incomes’, MISHTI, will be taken up for \\nmangrove plantation along the coastline and on salt pan lands, wherever \\nfeasible, through convergence between MGNREGS, CAMPA Fund and other \\nsources. \\nAmrit Dharohar \\n86. Wetlands are vital ecosystems which sustain biological diversity. In \\nhis latest Mann Ki Baat, the Prime Minister said, “Now the total number of \\nRamsar sites in our country has increased to 75. Whereas, before 2014, \\nthere were only 26…”  Local communities have always been at the forefront \\nof conservation efforts. The government will promote their unique \\nconservation values through Amrit Dharohar , a scheme that will be \\nimplemented over the next three years to encourage optimal use of \\nwetlands, and enhance bio-diversity, carbon stock,  \\neco-tourism opportunities and income generation for local communities.  \\nCoastal Shipping \\n87. Coastal shipping will be promoted as the energy efficient and lower \\ncost mode of transport, both for passengers and freight, through PPP mode \\nwith viability gap funding.   \\nVehicle Replacement \\n88. Replacing old polluting vehicles is an important part of greening our \\neconomy. In furtherance of the vehicle scrapping policy mentioned in \\nBudget 2021-22, I have allocated adequate funds to scrap old vehicles of '},\n",
       " {'page': 24,\n",
       "  'content': '20 \\n \\n \\n the Central Government. States will also be supported in replacing old \\nvehicles and ambulances.  \\nPriority 6: Youth Power  \\n89. To empower our youth and help the ‘ Amrit Peedhi ’ realize their \\ndreams, we have formulated the National Education Policy, focused on \\nskilling, adopted economic policies that facilitate job creation at scale, and \\nhave supported business opportunities.   \\nPradhan Mantri Kaushal Vikas Yojana 4.0 \\n90. Pradhan Mantri Kaushal Vikas Yojana 4.0 will be launched to skill \\nlakhs of youth within the next three years.  On-job training, industry \\npartnership, and alignment of courses with needs of industry will be \\nemphasized. The scheme will also cover new age courses for Industry 4.0 \\nlike coding, AI, robotics, mechatronics, IOT, 3D printing, drones, and soft \\nskills. To skill youth for international opportunities, 30 Skill India \\nInternational Centres will be set up across different States.  \\n \\nSkill India Digital Platform  \\n91. The digital ecosystem for skilling will be further expanded with the \\nlaunch of a unified Skill India Digital platform for: \\n\\uf0b7 enabling demand-based formal skilling,  \\n\\uf0b7 linking with employers including MSMEs, and \\n\\uf0b7 facilitating access to entrepreneurship schemes.  \\nNational Apprenticeship Promotion Scheme  \\n92. To provide stipend support to 47 lakh youth in three years, Direct \\nBenefit Transfer under a pan-India National Apprenticeship Promotion \\nScheme will be rolled out. '},\n",
       " {'page': 25,\n",
       "  'content': '21 \\n \\n \\n Tourism \\n93. With an integrated and innovative approach, at  \\nleast 50 destinations will be selected through challenge mode. In addition to \\naspects such as physical connectivity, virtual connectivity, tourist guides, \\nhigh standards for food streets and tourists’ security, all the relevant \\naspects would be made available on an App to enhance tourist experience. \\nEvery destination would be developed as a complete package. The focus of \\ndevelopment of tourism would be on domestic as well as foreign tourists.  \\n94. Sector specific skilling and entrepreneurship development will be \\ndovetailed to achieve the objectives of the ‘Dekho Apna Desh’ initiative. \\nThis was launched as an appeal by the Prime Minister to the middle class to \\nprefer domestic tourism over international tourism. For integrated \\ndevelopment of theme-based tourist circuits, the ‘Swadesh Darshan \\nScheme’ was also launched. Under the Vibrant Villages Programme, tourism \\ninfrastructure and amenities will also be facilitated in border villages.  \\nUnity Mall \\n95. States will be encouraged to set up a Unity Mall in their state capital \\nor most prominent tourism centre or the financial capital for promotion and \\nsale of their own ODOPs (one district, one product), GI products and other \\nhandicraft products, and for providing space for such products of all other \\nStates.   \\nPriority 7: Financial Sector \\n96. Our reforms in the financial sector and innovative use of technology \\nhave led to financial inclusion at scale, better and faster service delivery, \\nease of access to credit and participation in financial markets. This Budget \\nproposes to further these measures.    \\nCredit Guarantee for MSMEs \\n97. Last year, I proposed revamping of the credit guarantee scheme for \\nMSMEs. I am happy to announce that the revamped scheme will take effect '},\n",
       " {'page': 26,\n",
       "  'content': '22 \\n \\n \\n from 1st April 2023 through infusion of ` 9,000 crore in the corpus. This will \\nenable additional collateral-free guaranteed credit of ` 2 lakh crore. \\nFurther, the cost of the credit will be reduced by about 1 per cent.     \\nNational Financial Information Registry  \\n98. A national financial information registry will be set up to serve as the \\ncentral repository of financial and ancillary information. This will facilitate \\nefficient flow of credit, promote financial inclusion, and foster financial \\nstability. A new legislative framework will govern this credit public \\ninfrastructure, and it will be designed in consultation with the RBI. \\nFinancial Sector Regulations  \\n99. To meet the needs of Amrit Kaal  and to facilitate optimum \\nregulation in the financial sector, public consultation, as necessary and \\nfeasible, will be brought to the process of regulation-making and issuing \\nsubsidiary directions. \\n100. To simplify, ease and reduce cost of compliance, financial sector \\nregulators will be requested to carry out a comprehensive review of existing \\nregulations. For this, they will consider suggestions from public and \\nregulated entities. Time limits to decide the applications under various \\nregulations will also be laid down. \\nGIFT IFSC  \\n101. To enhance business activities in GIFT IFSC, the following measures \\nwill be taken: \\n\\uf0b7 Delegating powers under the SEZ Act to IFSCA to avoid dual \\nregulation, \\n\\uf0b7 Setting up a single window IT system for registration and \\napproval from IFSCA, SEZ authorities, GSTN, RBI, SEBI and \\nIRDAI,  '},\n",
       " {'page': 27,\n",
       "  'content': '23 \\n \\n \\n \\uf0b7 Permitting acquisition financing by IFSC Banking Units of \\nforeign banks,  \\n\\uf0b7 Establishing a subsidiary of EXIM Bank for trade  \\nre-financing, \\n\\uf0b7 Amending IFSCA Act for statutory provisions for arbitration, \\nancillary services, and avoiding dual regulation under SEZ Act, \\nand \\n\\uf0b7 Recognizing offshore derivative instruments as valid contracts.  \\n \\nData Embassy \\n102. For countries looking for digital continuity solutions, we will \\nfacilitate setting up of their Data Embassies in GIFT IFSC.  \\nImproving Governance and Investor Protection in Banking Sector \\n103. To improve bank governance and enhance investors’ protection, \\ncertain amendments to the Banking Regulation Act, the Banking Companies \\nAct and the Reserve Bank of India Act are proposed. \\n \\nCa\\npacity Building in Securities Market \\n104. To build capacity of functionaries and professionals in the securities \\nmarket, SEBI will be empowered to develop, regulate, maintain and enforce \\nnorms and standards for education in the National Institute of Securities \\nMarkets and to recognize award of degrees, diplomas and certificates.  \\nCentral Data Processing Centre  \\n105. A Central Processing Centre will be setup for faster response to \\ncompanies through centralized handling of various forms filed with field \\noffices under the Companies Act. '},\n",
       " {'page': 28,\n",
       "  'content': '24 \\n \\n \\n Reclaiming of shares and dividends  \\n106. For investors to reclaim unclaimed shares and unpaid dividends \\nfrom the Investor Education and Protection Fund Authority with ease, an \\nintegrated IT portal will be established. \\nDigital Payments  \\n107. Digital payments continue to find wide acceptance. In 2022, they \\nshow increase of 76 per cent in transactions  \\nand 91 per cent in value. Fiscal support for this digital public infrastructure \\nwill continue in 2023-24.  \\nAzadi Ka Amrit Mahotsav Mahila Samman Bachat Patra  \\n108. For commemorating Azadi Ka Amrit Mahotsav, a one-time new small \\nsavings scheme, Mahila Samman Savings Certificate, will be made available \\nfor a two-year period up to March 2025. This will offer deposit facility upto \\n` 2 lakh in the name of women or girls for a tenor of 2 years at fixed \\ninterest rate of 7.5 per cent with partial withdrawal option.  \\nSenior Citizens  \\n109. The maximum deposit limit for Senior Citizen Savings Scheme will be \\nenhanced from ` 15 lakh to ` 30 lakh. \\n110.  The maximum deposit limit for Monthly Income Account Scheme \\nwill be enhanced from ` 4.5 lakh to ` 9 lakh for single account and from ` 9 \\nlakh to ` 15 lakh for joint account. \\nFiscal Management \\nFifty-year interest free loan to States \\n111. The entire fifty-year loan to states has to be spent on capital \\nexpenditure within 2023-24. Most of this will be at the discretion of states, \\nbut a part will be conditional on states increasing their actual capital '},\n",
       " {'page': 29,\n",
       "  'content': '25 \\n \\n \\n expenditure. Parts of the outlay will also be linked to, or allocated for, the \\nfollowing purposes: \\n\\uf0b7 Scrapping old government vehicles, \\n\\uf0b7 Urban planning reforms and actions, \\n\\uf0b7 Financing reforms in urban local bodies to make them \\ncreditworthy for municipal bonds, \\n\\uf0b7 Housing for police personnel above or as part of police stations,  \\n\\uf0b7 Constructing Unity Malls, \\n\\uf0b7 Children and adolescents’ libraries and digital infrastructure, \\nand \\n\\uf0b7 State share of capital expenditure of central schemes. \\nFiscal Deficit of States \\n112. States will be allowed a fiscal deficit of 3.5 per cent of GSDP of which \\n0.5 per cent will be tied to power sector reforms.  \\nRevised Estimates 2022-23 \\n113. The Revised Estimate of the total receipts other than borrowings is  \\n` 24.3 lakh crore, of which the net tax receipts  \\nare ` 20.9 lakh crore. The Revised Estimate of the total expenditure is  \\n` 41.9 lakh crore, of which the capital expenditure is about ` 7.3 lakh crore.      \\n114. The Revised Estimate of the fiscal deficit is 6.4 per cent of GDP, \\nadhering to the Budget Estimate.        \\nBudget Estimates 2023-24 \\n115. Coming to 2023-24, the total receipts other than borrowings and the \\ntotal expenditure are estimated at ` 27.2 lakh crore and ` 45 lakh crore \\nrespectively. The net tax receipts are estimated at ` 23.3 lakh crore.      '},\n",
       " {'page': 30,\n",
       "  'content': '26 \\n \\n \\n 116. The fiscal deficit is estimated to be 5.9 per cent of GDP. In my \\nBudget Speech for 2021-22, I had announced that we plan to continue the \\npath of fiscal consolidation, reaching a fiscal deficit below 4.5 per cent by \\n2025-26 with a fairly steady decline over the period. We have adhered to \\nthis path, and I reiterate my intention to bring the fiscal deficit below 4.5 \\nper cent of GDP by 2025-26.  \\n117.  To finance the fiscal deficit in 2023-24, the net market borrowings \\nfrom dated securities are estimated at ` 11.8 lakh crore. The balance \\nfinancing is expected to come from small savings and other sources. The \\ngross market borrowings are estimated at ` 15.4 lakh crore. \\nI will, now, move to Part B. \\n \\n \\n  '},\n",
       " {'page': 31,\n",
       "  'content': '27 \\n \\n \\n PART B \\nIndirect Taxes \\n118. My indirect tax proposals aim to promote exports, boost domestic \\nmanufacturing, enhance domestic value addition, encourage green energy \\nand mobility.  \\n119. A simplified tax structure with fewer tax rates helps in reducing \\ncompliance burden and improving tax administration. I propose to reduce \\nthe number of basic customs duty rates on goods, other than textiles and \\nagriculture, from 21 to 13. As a result, there are minor changes in the basic \\ncustom duties, cesses and surcharges on some items including toys, \\nbicycles, automobiles and naphtha. \\n \\nGreen Mobility \\n120. To avoid cascading of taxes on blended compressed natural gas, I \\npropose to exempt excise duty on GST-paid compressed bio gas contained \\nin it. To further provide impetus to green mobility, customs duty exemption \\nis being extended to import of capital goods and machinery required for \\nmanufacture of lithium-ion cells for batteries used in electric vehicles. \\nElectronics  \\n121. As a result of various initiatives of the Government, including the \\nPhased Manufacturing programme, mobile phone production in India has \\nincreased from 5.8 crore units valued at about ` 18,900 crore in 2014-15 to \\n31 crore units valued at over ` 2,75,000 crore in the last financial year. To \\nfurther deepen domestic value addition in manufacture of mobile phones, I \\npropose to provide relief in customs duty on import of certain parts and \\ninputs like camera lens and continue the concessional duty on lithium-ion \\ncells for batteries for another year.  '},\n",
       " {'page': 32,\n",
       "  'content': '28 \\n \\n \\n 122. Similarly, to promote value addition in manufacture of televisions, I \\npropose to reduce the basic customs duty on parts of open cells of TV \\npanels to 2.5 per cent.  \\nElectrical  \\n123. To rectify inversion of duty structure and encourage manufacturing \\nof electric kitchen chimneys, the basic customs duty on electric kitchen \\nchimney is being increased from 7.5 per cent to 15 per cent and that on \\nheat coils for these is proposed to be reduced from 20 per cent to 15 per \\ncent. \\nChemicals and Petrochemicals  \\n124. Denatured ethyl alcohol is used in chemical industry. \\n I propose to exempt basic customs duty on it. This will also support the \\nEthanol Blending Programme and facilitate our endeavour for energy \\ntransition. Basic customs duty is also being reduced on acid grade fluorspar \\nfrom 5 per cent to 2.5 per cent to make the domestic fluorochemicals \\nindustry competitive. Further, the basic customs duty on crude glycerin for \\nuse in manufacture of epicholorhydrin is proposed to be reduced from 7.5 \\nper cent to 2.5 per cent. \\nMarine products \\n125. In the last financial year, marine products recorded the highest \\nexport growth benefitting farmers in the coastal states of the country. To \\nfurther enhance the export competitiveness of marine products, \\nparticularly shrimps, duty is being reduced on key inputs for domestic \\nmanufacture of shrimp feed. \\nLab Grown Diamonds \\n126. India is a global leader in cutting and polishing of natural diamonds, \\ncontributing about three-fourths of the global turnover by value. With the \\ndepletion in deposits of natural diamonds, the industry is moving towards \\nLab Grown Diamonds (LGDs) and it holds huge promise. To seize this '},\n",
       " {'page': 33,\n",
       "  'content': '29 \\n \\n \\n opportunity, I propose to reduce basic customs duty on seeds used in their \\nmanufacture.  \\n \\nPrecious Metals \\n127. Customs Duties on dore and bars of gold and platinum were \\nincreased earlier this fiscal. I now propose to increase the duties on articles \\nmade therefrom to enhance the duty differential. I also propose to increase \\nthe import duty on silver dore, bars and articles to align them with that on \\ngold and platinum. \\nMetals \\n128. To facilitate availability of raw materials for the steel sector, \\nexemption from Basic Customs Duty on raw materials for manufacture of \\nCRGO Steel, ferrous scrap and nickel cathode is being continued. \\n129. Similarly, the concessional BCD of 2.5 per cent on copper scrap is \\nalso being continued to ensure the availability of raw materials for \\nsecondary copper producers who are mainly in the MSME sector. \\nCompounded Rubber \\n130. The basic customs duty rate on compounded rubber is being \\nincreased from 10 per cent to ‘25 per cent or ` 30/kg whichever is lower’, at \\npar with that on natural rubber other than latex, to curb circumvention of \\nduty.  \\nCigarettes \\n131. National Calamity Contingent Duty (NCCD) on specified cigarettes \\nwas last revised three years ago. This is proposed to be revised upwards by \\nabout 16 per cent. \\n '},\n",
       " {'page': 34,\n",
       "  'content': '30 \\n \\n \\n  \\nDirect Taxes \\n132. I now come to my direct tax proposals. These proposals aim to \\nmaintain continuity and stability of taxation, further simplify and rationalise \\nvarious provisions to reduce the compliance burden, promote the \\nentrepreneurial spirit and provide tax relief to citizens. \\n133. It has been the constant endeavour of the Income Tax Department \\nto improve Tax Payers Services by making compliance easy and smooth. Our \\ntax payers’ portal received a maximum of 72 lakh returns in a day; \\nprocessed more than 6.5 crore returns this year; average processing period \\nreduced from 93 days in financial year 13-14 to 16 days now;  \\nand 45 per cent of the returns were processed within 24 hours. We intend \\nto further improve this, roll out a next-generation Common IT Return Form \\nfor tax payer convenience, and also plan to strengthen the grievance \\nredressal mechanism.  \\nMSMEs and Professionals  \\n134. MSMEs are growth engines of our economy.  Micro enterprises with \\nturnover up to ` 2 crore and certain professionals with turnover of up to  \\n` 50 lakh can avail the benefit of presumptive taxation. I propose to provide \\nenhanced limits of ` 3 crore and ` 75 lakh respectively, to the tax payers \\nwhose cash receipts are no more than 5 per cent. Moreover, to support \\nMSMEs in timely receipt of payments, I propose to allow deduction for \\nexpenditure incurred on payments made to them only when payment is \\nactually made.  \\nCooperation \\n135. Cooperation is a value to be cherished. In realizing our Prime \\nMinister’s goal of “Sahkar se Samriddhi ”, and his resolve to “connect the \\nspirit of cooperation with the spirit of Amrit Kaal”, in addition to the \\nmeasures proposed in Part A, I have a slew of proposals for the co-operative \\nsector.  '},\n",
       " {'page': 35,\n",
       "  'content': '31 \\n \\n \\n 136. First, new co-operatives that commence manufacturing activities till \\n31.3.2024 shall get the benefit of a lower tax rate of 15 per cent, as is \\npresently available to new manufacturing companies. \\n137. Secondly, I propose to provide an opportunity to sugar co-operatives \\nto claim payments made to sugarcane farmers for the period prior to \\nassessment year 2016-17 as expenditure. This is expected to provide them \\nwith a relief of almost ` 10,000 crore.  \\n138. Thirdly, I am providing a higher limit of ` 2 lakh per member for cash \\ndeposits to and loans in cash by Primary Agricultural Co-operative Societies \\n(PACS) and Primary Co-operative Agriculture and Rural Development Banks \\n(PCARDBs).  \\n139. Similarly, a higher limit of ` 3 crore for TDS on cash withdrawal is \\nbeing provided to co-operative societies. \\nStart-Ups \\n140. Entrepreneurship is vital for a country’s economic development. We \\nhave taken a number of measures for start-ups and they have borne results. \\nIndia is now the third largest ecosystem for start-ups globally, and ranks \\nsecond in innovation quality among middle-income countries. I propose to \\nextend the date of incorporation for income tax benefits to start-ups from \\n31.03.23 to 31.3.24. I further propose to provide the benefit of carry \\nforward of losses on change of shareholding of start-ups from seven years \\nof incorporation to ten years. \\nAppeals \\n141. To reduce the pendency of appeals at Commissioner level, I propose \\nto deploy about 100 Joint Commissioners for disposal of small appeals. We \\nshall also be more selective in taking up cases for scrutiny of returns already \\nreceived this year. \\n \\n '},\n",
       " {'page': 36,\n",
       "  'content': '32 \\n \\n \\n Better targeting of tax concessions \\n142. For better targeting of tax concessions and exemptions, \\n I propose to cap deduction from capital gains on investment in residential \\nhouse under sections 54 and 54F to ` 10 crore. Another proposal with \\nsimilar intent is to limit income tax exemption from proceeds of insurance \\npolicies with very high value. \\nRationalisation \\n143. There are a number of proposals relating to rationalisation and \\nsimplification. Income of authorities, boards and commissions set up by \\nstatutes of the Union or State for the purpose of housing, development of \\ncities, towns and villages, and regulating, or regulating and developing an \\nactivity or matter, is proposed to be exempted from income tax. Other \\nmajor measures in this direction are: \\n\\uf0b7 Removing the minimum threshold of ` 10,000/- for TDS and \\nclarifying taxability relating to online gaming; \\n\\uf0b7 Not treating conversion of gold into electronic gold receipt and vice \\nversa as capital gain;  \\n\\uf0b7 Reducing the TDS rate from 30 per cent to 20 per cent on taxable \\nportion of EPF withdrawal in non-PAN cases; and \\n\\uf0b7 Taxation on income from Market Linked Debentures. \\nOthers \\n144. Other major proposals in the Finance Bill relate to the following: \\n\\uf0b7 Extension of period of tax benefits to funds relocating to IFSC, GIFT \\nCity till 31.03.2025; \\n\\uf0b7 Decriminalisation under section 276A of the Income Tax Act; \\n\\uf0b7 Allowing carry forward of losses on strategic disinvestment including \\nthat of IDBI Bank; and \\n\\uf0b7 Providing EEE status to Agniveer Fund. \\n '},\n",
       " {'page': 37,\n",
       "  'content': '33 \\n \\n \\n Personal Income Tax \\n145. Now, I come to what everyone is waiting for -- personal income tax. I \\nhave five major announcements to make in this regard. These primarily \\nbenefit our hard-working middle class. \\n146. The first one concerns rebate. Currently, those with income up to  \\n` 5 lakh do not pay any income tax in both old and new tax regimes. I \\npropose to increase the rebate limit to ` 7 lakh in the new tax regime. Thus, \\npersons in the new tax regime, with income up to ` 7 lakh will not have to \\npay any tax.  \\n147. The second proposal relates to middle-class individuals. \\n I had introduced, in the year 2020, the new personal income tax regime \\nwith six income slabs starting from ` 2.5 lakh. I propose to change the tax \\nstructure in this regime by reducing the number of slabs to five and \\nincreasing the tax exemption limit to ` 3 lakh. The new tax rates are: \\n` 0-3 lakh Nil \\n` 3-6 lakh 5 per cent \\n` 6-9 lakh 10 per cent \\n` 9-12 lakh 15 per cent \\n` 12-15 lakh 20 per cent \\nAbove ` 15 lakh 30 per cent \\n \\n148. This will provide major relief to all tax payers in the new regime. An \\nindividual with an annual income of ` 9 lakh will be required to pay only  \\n` 45,000/-. This is only 5 per cent of his or her income. It is a reduction of 25 \\nper cent on what he or she is required to pay now, ie, ` 60,000/-. Similarly, \\nan individual with an income of ` 15 lakh would be required to pay only  \\n` 1.5 lakh or 10 per cent of his or her income, a reduction of 20 per cent \\nfrom the existing liability of ` 1,87,500/.  \\n149. My third proposal is for the salaried class and the pensioners \\nincluding family pensioners, for whom I propose to extend the benefit of '},\n",
       " {'page': 38,\n",
       "  'content': '34 \\n \\n \\n standard deduction to the new tax regime. Each salaried person with an \\nincome of ` 15.5 lakh or more will thus stand to benefit by ` 52,500. \\n150. My fourth announcement in personal income tax is regarding the \\nhighest tax rate which in our country is 42.74 per cent. This is among the \\nhighest in the world. I propose to reduce the highest surcharge rate from 37 \\nper cent to 25 per cent in the new tax regime. This would result in reduction \\nof the maximum tax rate to 39 per cent. \\n151. Lastly, the limit of ` 3 lakh for tax exemption on leave encashment \\non retirement of non-government salaried employees was last fixed in the \\nyear 2002, when the highest basic pay in the government was ` 30,000/- \\npm. In line with the increase in government salaries, I am proposing to \\nincrease this limit to ` 25 lakh. \\n152. We are also making the new income tax regime as the default tax \\nregime. However, citizens will continue to have the option to avail the \\nbenefit of the old tax regime. \\n153. Apart from these, I am also making some other changes as given in \\nthe annexure. \\n154. As a result of these proposals, revenue of about ` 38,000 crore –  \\n` 37,000 crore in direct taxes and ` 1,000 crore in indirect taxes – will be \\nforgone while revenue of about ` 3,000 crore will be additionally mobilized. \\nThus, the total revenue forgone is about ` 35,000 crore annually. \\n155. Mr. Speaker Sir, with these words, I commend the Budget to this \\naugust House. \\n***** \\n  '},\n",
       " {'page': 39,\n",
       "  'content': '35 \\n \\n \\n Annexure to Part B of the Budget Speech 2023-24 \\nAmendments relating to Direct Taxes \\nA. PROVIDING TAX RELIEF  UNDER NEW PERSONAL T AX REGIME  \\nA.1     The new tax regime for Individual and HUF , introduced by the \\nFinance Act 2020, is now proposed to be the default regime.  \\nA.2      This regime would also become the default regime for AOP (other \\nthan co-operative), BOI and AJP.  \\nA.3      Any individual, HUF, AOP (other than co-operative), BOI or AJP not \\nwilling to be taxed under this new regime can opt to be taxed \\nunder the old regime. For those person having income under the \\nhead “profit and gains of business or profession” and having opted \\nfor old regime can revoke that option only once and after that \\nthey will continue to be taxed under the new regime. For those \\nnot having income under the head “profit and gains of business or \\nprofession”, option for old regime may be exercised in each year. \\nA.4      Substantial relief is proposed under the new regime with new slabs \\nand tax rates as under: \\nTotal Income ( `) Rate (per cent)  \\nUpto 3,00,000  Nil \\nFrom 3,00,001 to 6,00,000  5 \\nFrom 6,00,001 to 9,00,000  10 \\nFrom 9,00,001 to 12,00,000 15 \\nFrom 12,00,001 to 15,00,000  20 \\nAbove 15,00,000  30 \\n \\nA.5      Resident individual with total income up to ` 5,00,000 do not pay \\nany tax due to rebate under both old and new regime. It is \\nproposed to increase the rebate for the resident individual under \\nthe new regime so that they do not pay tax if their total income is \\nup to ` 7,00,000. \\nA.6     Standard deduction of ` 50,000 to salaried individual, and '},\n",
       " {'page': 40,\n",
       "  'content': '36 \\n \\n \\n deduction from family pension up to ` 15,000, is currently allowed \\nonly under the old regime. It is proposed to allow these two \\ndeductions under the new regime also. \\n A.7      Surcharge on income-tax under both old regime and new regime is \\n10 per cent if income is above ` 5 0 lakh and up to ` 1 crore, 15 per \\ncent if income is above  `1 crore and up to ` 2 crore, 25 per cent if \\nincome is above ` 2 crore and up to ` 5 crore, and 37 per cent if \\nincome is above ` 5 crore. It is proposed that the for those \\nindividuals, HUF, AOP (other than co-operative), BOI and AJP \\nunder the new regime, surcharge would be same except that the \\nsurcharge rate of 37 per cent will not apply. Highest surcharge \\nshall be 25 per cent for income above  \\n` 2 crore. This would reduce the maximum rate from about 42.7 \\nper cent to about 39 per cent. No change in surcharge is proposed \\nfor those who opt to be under the old regime. \\nA.8      Encashment of earned leave up to 10 months of average salary, at \\nthe time of retirement in case of an employee (other than an \\nemployee of the Central Government or State Government), is \\nexempt under sub-clause (ii) of clause (10AA) of section 10 of the \\nIncome-tax Act (“the Act”) to the extent notified. The maximum \\namount which can be exempted is ` 3 lakh at present. It is \\nproposed to issue notification to extend this limit to ` 25 lakh.  \\nB. SOCIO-ECONOMIC WELFARE MEASURES  \\nB.1 Promoting  timely payments to Micro and Small Enterprises  \\nIn order to promote timely payments to micro and small \\nenterprises, it is proposed to include payments made to such \\nenterprises within the ambit of section 43B of the Act. Thus, \\ndeduction for such payments would be allowed only when actually \\npaid. It will be allowed on accrual basis only if the payment is \\nwithin the time mandated under the Micro, Small and Medium \\nEnterprises Development Act. \\nB.2 Agnipath Scheme, 2022 \\nThe payment received from the Agniveer Corpus Fund by the \\nAgniveers enrolled in Agnipath Scheme, 2022 is proposed to be \\nexempt from taxes. Deduction in the computation of total income \\nis proposed to be allowed to the Agniveer on the contribution '},\n",
       " {'page': 41,\n",
       "  'content': '37 \\n \\n \\n made by him or the Central Government to his Seva Nidhi \\naccount. \\nB.3 Relief to sugar co-operatives from past demand \\nIt is proposed that for sugar co-operatives, for years prior to A.Y. \\n2016-17, if any deduction claimed for expenditure made on \\npurchase of sugar has been disallowed, an application may be \\nmade to the Assessing Officer, who shall recompute the income of \\nthe relevant previous year after allowing such deduction up to the \\nprice fixed or approved by the Government for such previous year.  \\nB.4 Increasing threshold limit for Co-operatives to withdraw cash \\nwithout TDS \\nIt is proposed to enable co-operatives to withdraw cash up to ` 3 \\ncrore in a year without being subjected to TDS on such \\nwithdrawal.  \\nB.5 Penalty for cash loan/transactions against primary co-operatives \\nIt is proposed to  amend section 269SS of the Act to provide that \\nwhere a deposit is accepted by a primary agricultural credit \\nsociety or a primary co-operative agricultural and rural \\ndevelopment bank from its member or a loan is taken from a \\nprimary agricultural credit society or a primary co-operative \\nagricultural and rural development bank by its member in cash, no \\npenal consequence would arise, if the amount of such loan or \\ndeposit in cash is less than  ` 2 lakh. Further, section 269T of the \\nAct is proposed to be amended to provide that where a deposit is \\nrepaid by a primary agricultural credit society or a primary co-\\noperative agricultural and rural development bank to its member \\nor such loan is repaid to a primary agricultural credit society or a \\nprimary co-operative agricultural and rural development bank by \\nits member in cash, no penal consequence shall arise, if the \\namount of such loan or deposit in cash is less than ` 2 lakh. \\nB.6 Relief to start-ups in carrying forward and setting off of losses \\nThe condition of continuity of at least 51 per cent shareholding for \\nsetting off of carried forward losses is relaxed for an eligible start \\nup if all the shareholders of the company continue to hold those \\nshares. At present this relaxation applies for losses incurred during \\nthe period of 7 years from incorporation of such start-up. It is '},\n",
       " {'page': 42,\n",
       "  'content': '38 \\n \\n \\n propos ed to increase this period to 10 years.  \\nB.7 Extension of date of incorporation for eligible start up for \\nexemption  \\nCertain start-ups are eligible for some tax benefit if they are \\nincorporated before 1st April, 2023. The period of incorporation of \\nsuch eligible start-ups is proposed to be extended by one year to \\nbefore 1st April, 2024.  \\nB.8 Gold to Electronic Gold Receipt \\nThe conversion of physical gold to Electronic Gold Receipt and vice \\nversa is proposed not to be treated as a transfer and not to attract \\nany capital gains. This would promote investments in electronic \\nequivalent of gold. \\nB.9 Incentives to IFSC \\nRelocation of funds to IFSC has certain tax exemptions, if the \\nrelocation is before 31.03.2023. This date is proposed to be \\nextended to 31.03.2025. Further, any distributed income from the \\noffshore derivative instruments entered into with an offshore \\nbanking unit is also proposed to be exempted subject to certain \\nconditions. \\nB.10 Exemption to development authorities etc. \\nIt is proposed to provide exemption to any income arising to a \\nbody or authority or board or trust or commission, (not being a \\ncompany) which  has been established or constituted by or under \\na Central or State Act with the purposes of satisfying the need for \\nhousing or for planning, development or improvement of cities, \\ntowns and villages or for regulating any activity or matter, \\nirrespective of whether it is carrying out commercial activity. \\nB.11 Facilitating certain strategic disinvestments \\nTo facilitate certain strategic disinvestments, it is proposed to \\nallow carry forward of accumulated losses and unabsorbed \\ndepreciation allowance in the case of amalgamation of one or \\nmore banking company with any other banking institution or a \\ncompany subsequent to a strategic disinvestment, if such \\namalgamation takes place within 5 years of strategic \\ndisinvestment. It is also proposed to modify the definition of \\n‘strategic disinvestment’. '},\n",
       " {'page': 43,\n",
       "  'content': '39 \\n \\n \\n B.12  15 per cent concessional tax to promote new manufacturing co -\\noperative society \\nIn order to promote the growth of manufacturing in co-operative \\nsector, a new co-operative society formed on or after 01.04.2023, \\nwhich commences manufacturing or production by 31.03.2024 \\nand do not avail of any specified incentive or deduction, is \\nproposed to be allowed an option to pay tax at a concessional rate \\nof 15 per cent similar to what is available to new manufacturing \\ncompanies.  \\nC. EASE OF COMPLIANCE  \\nC.1 Ease in claiming deduction on amortization of preliminary \\nexpenditure  \\nAt present for claiming amortization of certain preliminary \\nexpenses, the activity is to be carried out either by the assessee or \\nby a concern approved by the Board. In order to ease the process \\nof claiming amortization of these expenses it is proposed to \\nremove the condition of activity in connection with these \\nexpenses to be carried out by a concern approved by the Board. \\nFormat for reporting of such expenses by the assessee shall be \\nprescribed. \\nC.2 Increasing threshold limits for presumptive taxation schemes \\nIn order to ease compliance and to promote non-cash \\ntransactions, it is proposed to increase the threshold limits for \\npresumptive scheme of taxation for eligible businesses from ` 2 \\ncrore to ` 3 crore and for specified professions from ` 50 lakh to  \\n` 75 lakh. The increased limit will apply only in case the amount or \\naggregate of the amounts received during the year, in cash, does \\nnot exceed five per cent of the total gross receipts/turnover. \\nC.3 Extending the scope for deduction of tax at source at lower or nil \\nrate \\nIt is proposed to allow a taxpayer to obtain certificate of \\ndeduction of tax at source to lower or nil rate on sums on which \\ntax is required to be deducted under section 194LBA of the Act by \\nBusiness Trusts.   '},\n",
       " {'page': 44,\n",
       "  'content': '40 \\n \\n \\n D. WIDENING & DEEPENING OF T AX BASE AND ANTI AVOIDANCE  \\nD.1 It is proposed to extend the deemed income accrual provision \\nrelating to sums of money exceeding fifty thousand rupees, \\nreceived from residents without consideration to a not ordinarily \\nresident with effect from 1st April, 2023. \\nD.2 It is proposed to omit the provision to allow tax exemption to \\nnews agencies set up in India solely for collection and distribution \\nof news from the financial year 2023-24.  \\nD.3 It is proposed to tax distributed income by business trusts in the \\nhands of a unit holder (other than dividend, interest or rent which \\nis already taxable) on which tax is currently avoided both in the \\nhands of unit holder as well as in the hands of business trust.   \\nD.4 It is proposed to withdraw the exemption from TDS currently \\navailable on interest payment on listed debentures. \\nD.5 With respect to presumptive schemes for non-residents, it is \\nproposed to disallow carried forward and set off of loss computed \\nas per books of account with presumptive income. \\nD.6 For online games, it is proposed to provide for TDS and taxability \\non net winnings at the time of withdrawal or at the end of the \\nfinancial year. Moreover, TDS would be without the threshold of  \\n` 10,000. For lottery, crossword puzzles games, etc threshold limit \\n` 10,000 for TDS shall continue but shall apply to aggregate \\nwinnings during a financial year. \\nD.7     The rate of TCS for foreign remittances for education and for \\nmedical treatment is proposed to continue to be 5 per cent for \\nremittances in excess of ` 7 lakh. Similarly, the rate of TCS on \\nforeign remittances for the purpose of education through loan \\nfrom financial institutions is proposed to continue to be 0.5 per \\ncent in excess of `7 lakh. However, for foreign remittances for \\nother purposes under LRS and purchase of overseas tour program, \\nit is proposed to increase the rates of TCS from 5 per cent to 20 \\nper cent. \\nD.8 Tax on capital gains can be avoided by investing proceeds of such \\ngains in residential property. This is proposed to be capped at ` 10 \\ncrore. '},\n",
       " {'page': 45,\n",
       "  'content': '41 \\n \\n \\n D.9 The income from market linked debentures is proposed to be \\ntaxed as short-term capital gains at the applicable rates. \\nD.10 It is proposed to provide for some provisions to minimise risk to \\nrevenue due to undervaluation of inventory. \\nD.11 It is proposed to provide that where aggregate of premium for life \\ninsurance policies (other than ULIP) issued on or after 1st April, \\n2023 is above ` 5 lakh, income from only those policies with \\naggregate premium up to ` 5 lakh shall be exempt. This will not \\naffect the tax exemption provided to the amount received on the \\ndeath of person insured. It will also not affect insurance policies \\nissued till 31st March, 2023. \\nD.12 It is proposed to amend provisions for computing capital gains in \\ncase of joint development of property to include the amount \\nreceived through cheque etc. as consideration.  \\nD.13 While interest paid on borrowed capital for acquiring or improving \\na property can, subject to certain conditions, be claimed as \\ndeduction from income, it can also be included in the cost of \\nacquisition or improvement on transfer, thereby reducing capital \\ngains. It is proposed to provide that the cost of acquisition or \\nimprovement shall not include the amount of interest claimed \\nearlier as deduction. \\nD.14 There are certain assets like intangible assets or rights for which \\nno consideration has been paid for acquisition and the transfer of \\nwhich may result in generation of income. Their cost of acquisition \\nis proposed to be defined to be NIL.  \\nE. IMPROVING COMPLIANCE AND TAX ADMINISTRATION  \\nE.1 With respect to rectification of orders by the Interim Board of \\nSettlement, it is proposed to provide that where the time-limit for \\namending an order by it or for making an application to it expires \\non or after 01.02.2021 but before 01.02.2022, such time-limit shall \\nstand extended to 30.09.2023. \\nE.2 To expedite the disposal of certain appeals pending with \\nCommissioner (Appeals), it is proposed to introduce a new \\nauthority in the rank of Joint Commissioner/ Additional \\nCommissioner [JCIT(Appeals)], for appeals against certain orders '},\n",
       " {'page': 46,\n",
       "  'content': '42 \\n \\n \\n passed by or with the approval of an authority below the rank of \\nJoint Commissioner. Certain related and consequential \\namendments are also proposed in this regard.  \\nE.3 It is proposed to reduce the minimum time period required to be \\nprovided by the transfer pricing officer to assessee for production \\nof documents and information from 30 days to 10 days. \\nE.4 It is proposed to provide for appeal against penalty orders passed \\nby Commissioner (Appeals) under certain sections of the Act \\nbefore the Appellate Tribunal. It is also proposed to provide that \\nan order under section 263 of the Act passed by the Principal \\nChief Commissioner or Chief Commissioner and any rectification \\norder for the same shall also be appealable before the Appellate \\nTribunal. Further, it is proposed to enable filing of memorandum \\nof cross-objections in all classes of cases against which appeal can \\nbe made to the Appellate Tribunal. \\nE.5 It is proposed to amend section 132 of the Act, dealing with \\nsearch and seizure, to allow the authorised officer to take \\nassistance of specific domain experts like digital forensic \\nprofessionals, valuers and services of other professionals like \\nlocksmiths, carpenters etc. during the course of search and also to \\naid in accurate estimation of undisclosed income held in the form \\nof property by the assessee.  \\nE.6 Section 170A of the Act, inserted vide Finance Act, 2022 is \\nproposed to be substituted to clarify that a modified return shall \\nbe furnished by an entity to whom the order of the business \\nreorganisation applies, and to introduce provisions for assessment \\nor reassessment in cases where such modified return is furnished. \\nE.7 It is proposed that an order of assessment may be passed within a \\nperiod of 12 months from the end of the relevant assessment year \\nor the financial year in which updated return is filed, as the case \\nmay be. It is also proposed that in cases where search under \\nsection 132 of the Act or requisition under section 132A of the Act \\nhas been made, the period of limitation of pending assessments \\nshall be extended by twelve months.  \\nE.8 It is proposed to make amendments to empower the Central \\nGovernment to make modifications in the already notified '},\n",
       " {'page': 47,\n",
       "  'content': '43 \\n \\n \\n schemes regarding e -Verification, Dispute Resolution, Advance \\nRulings, Appeal and Penalty, at any time to enable better \\nimplementation of such schemes. \\nE.9 It is proposed to limit the time for furnishing of a return for \\nreassessment. Further, it is also proposed to  provide that in cases \\nwhere search related information is available after 15th March of \\nany financial year, an additional period of fifteen days shall be \\nallowed for issuance of notice, for assessment/reassessments etc, \\nunder section 148 of the Act. It is also proposed to clarify that the \\nspecified authority for granting approval shall be Principal Chief \\nCommissioner or Principal Director General or Chief Commissioner \\nor Director General. \\nE.10 It is proposed to provide a penalty of ` 5,000 if there is any \\ninaccuracy in the statement of financial transactions submitted by \\na prescribed reporting financial institution due to false or \\ninaccurate information submitted by the account holder. \\nE.11 It is proposed to amend section 271C and section 276B of the Act \\nto provide for penalty and prosecution where default in TDS \\nrelates to transaction in kind. \\nE.12.   It is proposed to amend the time period for filing of appeal against \\nthe order of the Adjudicating authority under Benami Act within a \\nperiod of 45 days from the date when such order is received by \\nthe Initiating Officer or the aggrieved person. The definition of \\n‘High Court’ is also proposed to be modified to allow \\ndetermination of jurisdiction for filing appeal in the case of non-\\nresidents.  \\nF. RATIONALISATION  \\nF.1 The restriction on interest deductibility on interest payment to \\noverseas associated enterprise does not apply to those in the \\nbusiness of banking and insurance. It is proposed to extend this \\nbenefit to non-banking financial companies, as may be notified. \\nF.2 TDS on payment of certain income to a non-resident is currently at \\nthe rate of 20 per cent, but the tax rate in treaties may be lower. It \\nis proposed to allow the benefit of tax treaty at the time of TDS on \\nsuch income under section 196A of the Act. '},\n",
       " {'page': 48,\n",
       "  'content': '44 \\n \\n \\n F.3 At present the TDS rate on withdrawal of taxable component from \\nEmployees’ Provident Fund Scheme in non-PAN cases is 30 per \\ncent. It is proposed to reduce it to 20 per cent, as in other non-\\nPAN cases. \\nF.4 Sometimes, tax for income of an earlier year is deducted later, \\nwhile tax thereon has already been paid in the earlier year. \\nAmendment is proposed to facilitate such taxpayers to claim \\ncredit of this TDS in the earlier year.  \\nF.5 Higher TDS/TCS rate applies, if the recipient is a non-filer i.e. who \\nhas not furnished his return of income of preceding previous year \\nand has aggregate of TDS and TCS of ` 50,000 or more. It is \\nproposed to exclude a person who is not required to furnish the \\nreturn of income for such previous year and who is notified by the \\nCentral Government in the Official Gazette in this behalf. \\nF\\n.6 It is proposed to clarify that the amount of advance tax paid is \\nreduced only once for computing the interest payable u/s 234B in \\nthe case of an updated return. \\nF.7 It is proposed to extend taxability of the consideration (share \\napplication money/ share premium) for shares exceeding the face \\nvalue of such shares to all investors including non-residents. \\nF.8 It is proposed to enable prescription of a uniform methodology for \\ncomputing the value of perquisite with respect to accommodation \\nprovided by employers to their employees. \\nF.9 It is proposed to provide a time limit for an SEZ unit to bring the \\nproceeds from exports of goods or services into India. The filing of \\nincome-tax return is also proposed to be made mandatory for \\nclaiming deduction on export income. \\nF.10 Due to changes in classification of non-banking financial \\ncompanies by the Reserve Bank of India, it is proposed to make \\nnecessary amendments to align such classifications in the Act with \\nthe same. \\nF.11 It is proposed to clarify that for taxability under section 28 of the \\nAct as well for tax deduction at source under section 194R of the \\nAct, the benefit could also be in cash. \\nF.12 It is proposed to make amendments relating to exemption '},\n",
       " {'page': 49,\n",
       "  'content': '45 \\n \\n \\n provided to charitable trusts and institution to  \\n\\uf0b7 provide clarity on tax treatment on replenishment of corpus \\nand on repayment of loans/borrowings; \\n\\uf0b7 treat only 85 per cent of donation made to another trust as \\napplication; \\n\\uf0b7 omit the redundant provisions related to rolling back of \\nexemption; \\n\\uf0b7 combine provisional and regular registration in some cases; \\n\\uf0b7 modify the scope of specified violation; \\n\\uf0b7 provide for payment of tax on assets if a trust does not apply \\nfor exemption after getting provisional exemption and for re-\\nexemption after expiry of exemption; \\n\\uf0b7 align of time for furnishing of certain forms; \\n\\uf0b7 clarify that the time provided for furnishing return of income \\nfor claiming exemption shall not include the time provided for \\nfurnishing updated return. \\nF.13 It is proposed to omit certain name-based funds from section 80G \\nof the Act, which provides for deduction of donation to such funds \\nfrom the income of the donor. \\nF.14 It is proposed to provide that where refund is due to a person, \\nsuch refund shall be set off against existing demand, and if \\nproceedings for assessment or reassessment are pending in such \\ncase, the refund due will be withheld by the Assessing Officer till \\nthe date of assessment or reassessment.  \\nG. OTHERS  \\nG.1 It is proposed to omit section 88 and some of the clauses of \\nsection 10 of the Act which are no longer in force. \\nG.2 It is proposed to extend tax exemption to Specified Undertaking of \\nUnit Trust of India (SUUTI) till 30th September, 2023. It is also \\nproposed to enable the Central Government to notify the date of \\nvacation of office of administrator of SUUTI. \\nG.3 It is proposed to decriminalize certain acts of omission of \\nliquidators under section 276A of the Act with effect from 1st \\nApril, 2023. \\n  \\n  '},\n",
       " {'page': 50,\n",
       "  'content': '46 \\n \\n \\n Annexure to Part B of the Budget Speech 2023-24 \\nAmendments relating to Indirect Taxes \\n \\nA. LEGISLATIVE CHANGES IN CUSTOMS LAWS  \\nA.1       Amendments in the Customs Act, 1962 \\nSection 25 (4A) is being amended to  exclude certain categories of \\nconditional customs duty exemptions from the validity period of \\ntwo years, such as, notifications issued in relation to multilateral \\nor bilateral trade agreements; obligations under international \\nagreements, treaties, conventions including with respect to UN \\nagencies, diplomats, international organizations; privileges of \\nconstitutional authorities; schemes under Foreign Trade Policy; \\nCentral Government schemes having a validity of more than two \\nyears; re-imports, temporary imports, goods imported as gifts or \\npersonal baggage; any other duties of Customs under any other \\nlaw in force including  IGST levied under section 3(7) of Customs \\nTariff Act, 1975, other than duty of customs levied under section \\n12 of the Customs Act 1962. \\nSection 127C is being amended to specify a time limit of nine \\nmonths from date of filing application for passing final order by \\nSettlement Commission.  \\nA.2  Amendments in the provisions relating to Anti-Dumping Duty \\n(ADD), Countervailing Duty (CVD), and Safeguard Measures \\nSections 9, 9A, 9C of the Customs Tariff Act are being amended to \\nclarify the intent and scope of these provisions. They are also \\nbeing validated retrospectively with effect from 1st January 1995. \\nA.3      Amendments in the First Schedule to the Customs Tariff Act, 1975 \\nThe First Schedule to the Customs Tariff Act, 1975 is being \\namended to increase the rates on certain tariff items with effect \\nfrom 02.02.2023 and also modify the rates on certain other tariff \\nitems as part of rate rationalisation with effect from date of \\nassent. \\nThe First Schedule to the Customs Tariff Act is being proposed to \\nbe amended in accordance with HSN 2022 amendments.  \\nNew tariff lines are also proposed to be created, which will help in \\nbetter identification of millet-based products, mozzarella cheese, \\nmedicinal plants and their parts, certain pesticides, telecom '},\n",
       " {'page': 51,\n",
       "  'content': '47 \\n \\n \\n products, synthetic diamonds, cotton, fertilizer grade urea etc. \\nThis will also help in trade facilitation by better identification of \\nthe above items, getting clarity on availing concessional import \\nduty through various notifications and thus reducing dwell time.  \\nThese changes shall come into effect from 01.05.2023. \\nA.4     Amendment in the Second Schedule to the Customs Tariff Act, \\n1975 \\nThe Second Schedule (Export Tariff) is being amended to align the \\nentries under heading 1202 with that of the First Schedule (Import \\nTariff) .  \\nB. LEGISLATIVE CHANGES IN GST LAWS  \\nB.1 Decriminalisation \\nSection 132 and section 138 of CGST Act are being amended, inter \\nalia, to  - \\n\\uf0b7 raise the minimum threshold of tax amount for launching \\nprosecution under GST from ` one crore to ` two crore, \\nexcept for the offence of issuance of invoices without supply \\nof goods or services or both; \\n\\uf0b7 reduce the compounding amount from the present range of \\n50 per cent  to 150 per cent of tax amount to the range of 25 \\nper cent to 100 per cent; \\n\\uf0b7 decriminalize certain offences specified under clause (g), (j) \\nand (k) of sub-section (1) of section 132 of CGST Act, 2017, \\nviz.- \\no obstruction or preventing any officer in discharge of his \\nduties;  \\no deliberate tempering of material evidence; \\no failure to supply the information. \\nB.2        Facilitate e-commerce for micro enterprises \\nAmendments are being made in section 10 and section 122 of the \\nCGST Act to enable unregistered suppliers and composition \\ntaxpayers to make intra-state supply of goods through E-\\nCommerce Operators (ECOs), subject to certain conditions.  \\nB.3        Amendment to Schedule III of CGST Act, 2017 \\nParas 7, 8 (a) and 8 (b) were inserted in Schedule III of CGST Act, \\n2017 with effect from 01.02.2019 to keep certain transactions/ \\nactivities, such as supplies of goods from a place outside the \\ntaxable territory to another place outside the taxable territory, \\nhigh sea sales and supply of warehoused goods before their home '},\n",
       " {'page': 52,\n",
       "  'content': '48 \\n \\n \\n clearance, outside the purview of GST. In order to remove the \\ndoubts and ambiguities regarding taxability of such transactions/ \\nactivities during the period 01.07.2017 to 31.01.2019, provisions \\nare being incorporated to make the said paras effective from \\n01.07.2017. However, no refund of tax paid shall be available in \\ncases where any tax has already been paid in respect of such \\ntransactions/ activities during the period 01.07.2017 to \\n31.01.2019. \\nB.4        Return filing under GST  \\nSections 37, 39, 44 and 52 of CGST Act, 2017 are being amended \\nto restrict filing of returns/ statements to a maximum period of \\nthree years from the due date of filing of the relevant return / \\nstatement.  \\nB.5        Input Tax Credit for expenditure related to CSR \\nSection 17(5) of CGST Act is being amended to provide that input \\ntax credit shall not be available in respect of goods or services or \\nboth received by a taxable person, which are used or intended to \\nbe used for activities relating to his obligations under corporate \\nsocial responsibility referred to in section 135 of the Companies \\nAct, 2013. \\nB.6        Sharing of information \\nA new section 158A in CGST Act is being inserted to enable sharing \\nof the information furnished by the registered person in his return \\nor application of registration or statement of outward supplies, or \\nthe details uploaded by him for generation of electronic invoice or \\nE-way bill or any other details on the common portal, with other \\nsystems in a manner to be prescribed \\nB.7        Amendments in section 2 clause (16) of IGST Act, 2017 \\nClause (16) of section 2 of IGST Act is amended to revise the \\ndefinition of “non-taxable online recipient” by removing the \\ncondition of receipt of online information and database access or \\nretrieval services for purposes other than commerce, industry or \\nany other business or profession so as to provide for taxability of \\nOIDAR service provided by any person located in non-taxable \\nterritory to an unregistered person receiving the said services and \\nlocated in the taxable territory. Further, it also seeks to clarify that \\nthe persons registered solely in terms of clause (vi) of Section 24 \\nof CGST Act shall be treated as unregistered person for the \\npurpose of the said clause. '},\n",
       " {'page': 53,\n",
       "  'content': '49 \\n \\n \\n B.8        Online information and database access or retrieval services \\nClause (17) of section 2 of IGST Act is being amended to revise the \\ndefinition of “online information and database access or retrieval \\nservices” to remove the condition of rendering of the said supply \\nbeing essentially automated and involving minimal human \\nintervention.  \\nB.9        Place of supply in certain cases \\nProviso to sub-section (8) of section 12 of the IGST Act is being \\nomitted so as to specify the place of supply, irrespective of \\ndestination of the goods, in cases where the supplier of services \\nand recipient of services are located in India.  \\n  '},\n",
       " {'page': 54,\n",
       "  'content': '50 \\n \\n \\n  \\nC. CUSTOMS DUTY RATE CHANGES \\n \\nC.1. Reduction in basic customs duty to reduce input costs, deepen value \\naddition, to promote export competitiveness, correct inverted duty \\nstructure so as to boost domestic manufacturing etc [with effect \\nfrom 02.02.2023] \\nS. \\nNo. Commodity  From \\n(per cent)  To \\n(per cent)  \\nI. Agricultural Products  \\n1. Pecan Nuts  100  30 \\n2. Fish meal for manufacture of aquatic \\nfeed 15 5 \\n3. Krill meal for manufacture of aquatic \\nfeed 15 5 \\n4. Fish lipid oil for manufacture of aquatic \\nfeed 30 15 \\n5. Algal Prime (flour) for manufacture of \\naquatic feed  30 15 \\n6. Mineral and Vitamin Premixes for \\nmanufacture of aquatic feed  15 5 \\n7 Crude glycerin for use in manufacture \\nof Epichlorohydrin  7.5 2.5 \\n8 Denatured ethyl alcohol for use in \\nmanufacture of industrial chemicals.  5 Nil \\nII. Minerals  \\n1 Acid grade fluorspar (containing by \\nweight more than 97 per cent of \\ncalcium fluoride)  5 2.5 \\nIII. Gems and Jewellery Sector  \\n1. Seeds for use in manufacturing of \\nrough lab-grown diamonds  5 Nil '},\n",
       " {'page': 55,\n",
       "  'content': '51 \\n \\n \\n IV. Capital Goods \\n1. Specified capital goods/machinery for \\nmanufacture of lithium-ion cell for use \\nin battery of electrically operated \\nvehicle (EVs) As \\napplicable Nil  \\n(up to \\n31.03.2024)  \\nV. IT and Electronics  \\n \\n1. Specified chemicals/items for \\nmanufacture of Pre-calcined Ferrite \\nPowder 7.5 Nil \\n(up to \\n31.03.2024)  \\n2. Palladium Tetra Amine Sulphate for \\nmanufacture of parts of connectors 7.5 Nil \\n(up to \\n31.03.2024)  \\n3. Camera lens and its inputs/parts for \\nuse in manufacture of camera module \\nof cellular mobile phone 2.5 Nil \\n4. Specified parts for manufacture of \\nopen cell of TV panel 5 2.5 \\nVI. Electronic Appliances \\n1. Heat coil for manufacture of electric \\nkitchen chimneys 20 15 \\nVII. Others \\n1. Warm blood horse imported by sports \\nperson of outstanding eminence for \\ntraining purpose 30 Nil \\n2. Vehicles, specified automobile \\nparts/components, sub-systems and \\ntyres when imported by notified \\ntesting agencies, for the purpose of \\ntesting and/ or certification, subject to \\nconditions. As \\napplicable Nil \\n \\n \\n '},\n",
       " {'page': 56,\n",
       "  'content': '52 \\n \\n \\n C.2. Increase in Customs duty [with effect from 02.02.2023]  \\nS. No.  Commodity \\n Rate of duties  \\nFrom \\n(per cent)  To \\n(per cent)  \\nI. Chemicals \\n1. Styrene 2 \\n(+0.2 SWS) 2.5 \\n(+0.25 \\nSWS) \\n2. Vinyl chloride monomer 2 \\n(+0.2 SWS) 2.5 \\n(+0.25 \\nSWS) \\nII Petrochemical \\n1 Naphtha 1 \\n(+ 0.1 SWS) 2.5 \\n(+0.25  SWS)  \\nIII. Precious Metals \\n1. Silver (including silver plated with gold \\nor platinum), unwrought or in semi-\\nmanufactured forms, or in powder \\nform 7.5 \\n(+ 2.5 \\nAIDC+ 0.75 \\nSWS) 10 \\n(+ 5 AIDC+ \\nNil SWS) \\n2. Silver dore 6.1 \\n(+ 2.5 \\nAIDC+ 0.61  \\nSWS) 10 \\n(+ 4.35 \\nAIDC+ Nil \\nSWS) \\nIV. Gems and Jewellery Sector  \\n1. Articles of Precious Metals such as \\ngold/silver/platinum 20 \\n(+Nil AIDC \\n+2 SWS)  25 \\n(+Nil AIDC \\n+Nil SWS) \\n2. Imitation Jewellery 20 or ` \\n400/kg., \\nwhichever is \\nhigher \\n \\n(+Nil AIDC +2 \\nor ` 40 per \\nKg SWS) \\n 25 or ` \\n600/kg., \\nwhichever is \\nhigher \\n \\n(+Nil AIDC \\n+Nil SWS) '},\n",
       " {'page': 57,\n",
       "  'content': '53 \\n \\n \\n S. No.  Commodity \\n Rate of duties  \\nFrom \\n(per cent)  To \\n(per cent)  \\nV. Automobiles  \\n1 Vehicle (including electric vehicles) in \\nSemi-Knocked Down (SKD) form . 30 \\n(+3 SWS) 35 \\n(+Nil SWS) \\n2 Vehicle in Completely Built Unit (CBU) \\nform, other than with CIF more than \\nUSD 40,000 or with engine capacity \\nmore than 3000 cc for petrol-run \\nvehicle and more than 2500 cc for \\ndiesel-run vehicles, or with both 60 \\n(+6  SWS) 70 \\n(+Nil SWS) \\n3 Electrically operated Vehicle in \\nCompletely Built Unit (CBU) form, \\nother than with CIF value more than \\nUSD 40,000 60 \\n(+ 6 SWS) 70 \\n(+Nil SWS) \\nVI. Others \\n1.  Bicycles 30 \\n \\n(+ Nil AIDC \\n+3 SWS) 35 \\n \\n(+ Nil AIDC \\n+Nil SWS) \\n2.  Toys and parts of toys (other than \\nparts of electronic toys) 60 \\n \\n(+Nil AIDC+ \\n6 SWS) 70 \\n \\n(+Nil AIDC+ \\nNil SWS) \\n3.  Compounded Rubber  10 \\n \\n 25 or ` \\n30/kg., \\nwhichever is \\nlower \\n4.  Electric Kitchen Chimney 7.5 \\n 15 \\n \\n* AIDC -Agriculture Infrastructure Development Cess; SWS – Social Welfare \\nSurcharge  \\n \\n '},\n",
       " {'page': 58,\n",
       "  'content': '54 \\n \\n \\n D. CHANGES IN CENTRAL EXCISE \\nD.1. NCCD Duty rate  on Cigarettes  [with effect from 02.02.2023]  \\n \\nDescription of goods  Rate of excise duty  \\nFrom \\n(` per 1000 \\nsticks)  To \\n(` per 1000 \\nsticks)  \\nOther than filter cigarettes, of length not \\nexceeding 65 mm  200 230 \\nOther than filter cigarettes, of length exceeding \\n65 mm but not exceeding 70 mm  250 290 \\nFilter cigarettes of length not exceeding 65 mm  440 510 \\nFilter cigarettes of length exceeding 65 mm but \\nnot exceeding 70 mm  440 510 \\nFilter cigarettes of length exceeding 70 mm but \\nnot exceeding 75 mm  545 630 \\nOther cigarettes  735 850 \\nCigarettes of tobacco substitutes  600 690 \\n \\n \\nD.2. Other changes in Central Excise [with effect from 02.02.2023] \\nIn order to promote green fuel, central excise duty exemption is being \\nprovided to blended Compressed Natural Gas from so much of the amount \\nas is equal to the GST paid on Bio Gas/Compressed Bio Gas contained in the \\nblended CNG . \\nE. OTHERS \\nThere are few other changes of minor nature. For details of the budget \\nproposals, the Explanatory Memorandum and other relevant budget \\ndocuments may be referred to. \\n***** '}]"
      ]
     },
     "execution_count": 4,
     "metadata": {},
     "output_type": "execute_result"
    }
   ],
   "source": [
    "pdf_path = r\"D:\\Projects\\LLM_Project\\documents\\budget_speech.pdf\"\n",
    "documents = read_pdf(pdf_path)\n",
    "documents"
   ]
  },
  {
   "cell_type": "code",
   "execution_count": 5,
   "metadata": {},
   "outputs": [
    {
     "data": {
      "text/plain": [
       "56"
      ]
     },
     "execution_count": 5,
     "metadata": {},
     "output_type": "execute_result"
    }
   ],
   "source": [
    "len(documents)"
   ]
  },
  {
   "cell_type": "markdown",
   "metadata": {},
   "source": [
    "# ***Split the document into chunks***"
   ]
  },
  {
   "cell_type": "code",
   "execution_count": 6,
   "metadata": {},
   "outputs": [],
   "source": [
    "# Preprocess the extracted documents by cleaning and splitting them into chunks.\n",
    "\n",
    "def preprocess_documents(documents: List[Dict[str, str]]) -> List[Dict[str, str]]: \n",
    "    \"\"\"\n",
    "    Args:\n",
    "        documents (List[Dict[str, str]]): List of extracted documents with page and content.\n",
    "    \n",
    "    Returns:\n",
    "        List[Dict[str, str]]: Preprocessed documents.\n",
    "    \"\"\"\n",
    "    processed_docs = []\n",
    "    chunk_size = 800  # Adjust based on your needs\n",
    "    \n",
    "    for doc in documents:\n",
    "        content = doc['content']\n",
    "        \n",
    "        # Clean up content (optional: add specific cleaning rules)\n",
    "        content = content.replace(\"\\n\", \" \").strip()\n",
    "        content = content.replace('\\uf0b7', '-')\n",
    "        \n",
    "        # Split content into chunks if it's too long\n",
    "        for i in range(0, len(content), chunk_size):\n",
    "            chunk = content[i:i + chunk_size]\n",
    "            processed_docs.append({\"page\": doc['page'], \"chunk\": chunk})\n",
    "    \n",
    "    return processed_docs"
   ]
  },
  {
   "cell_type": "code",
   "execution_count": 65,
   "metadata": {},
   "outputs": [],
   "source": [
    "processed_documents = preprocess_documents(documents)"
   ]
  },
  {
   "cell_type": "code",
   "execution_count": 8,
   "metadata": {},
   "outputs": [
    {
     "name": "stdout",
     "output_type": "stream",
     "text": [
      "Page 1:\n",
      "GOVERNMENT OF INDIA BUDGET 2023-2024 SPEECH OF NIRMALA SITHARAMAN MINISTER OF FINANCE February 1,  2023\n",
      "\n",
      "Page 3:\n",
      "CONTENTS  PART-A   Page No.   - Introduction 1  - Achievements since 2014: Leaving no one behind 2  - Vision for Amrit Kaal  – an empowered and inclusive economy 3  - Priorities of this Budget 5  i. Inclusive Development   ii. Reaching the Last Mile  iii. Infrastructure and Investment  iv. Unleashing the Potential  v. Green Growth  vi. Youth Power   vii. Financial Sector                   - Fiscal Management 24  PART B      Indirect Taxes  27  - Green Mobility   - Electronics    - Electrical    - Chemicals and Petrochemicals    - Marine products   - Lab Grown Diamonds   - Precious Metals   - Metals   - Compounded Rubber   - Cigarettes      Direct Taxes  30  - MSMEs and Professionals    - Cooperation   - Start-Ups   - Appeals   - Better targeting of tax concessions   - Rationalisation   - O\n",
      "\n",
      "Page 3:\n",
      "thers   - Personal Income Tax      Annexures  35  - Annexure to Part B of the Budget Speech 2023-24  i. Amendments relating to Direct Taxes  ii. Amendments relating to Indirect Taxes\n",
      "\n",
      "Page 5:\n",
      "Budget 2023-2024    Speech of   Nirmala Sitharaman  Minister of Finance  February 1, 2023  Hon’ble Speaker,    I present the Budget for 2023-24. This is the first Budget in Amrit  Kaal .  Introduction  1. This Budget hopes to build on the foundation laid in the previous  Budget, and the blueprint drawn for India@100. We envision a prosperous  and inclusive India, in which the fruits of development reach all regions and  citizens, especially our youth, women, farmers, OBCs, Scheduled Castes and  Scheduled Tribes.   2. In the 75th year of our Independence, the world has recognised the  Indian economy as a ‘bright star’. Our current year’s economic growth is  estimated to be at 7 per cent. It is notable that this is the highest among all  the major economies. This is in spite of the massive s\n",
      "\n",
      "Page 5:\n",
      "lowdown globally  caused by Covid-19 and a war. The Indian economy is therefore on the right  track, and despite a time of challenges, heading towards a bright future.   3. Today as Indians stands with their head held high, and the world  appreciates India’s achievements and successes, we are sure that elders  who had fought for India’s independence, will with joy, bless us our  endeavors going forward.  Resilience amidst multiple crises  4. Our focus on wide-ranging reforms and sound policies, implemented  through Sabka Prayas  resulting in Jan Bhagidari  and targeted support to  those in need, helped us perform well in trying times. India’s rising global\n",
      "\n",
      "Page 6:\n",
      "2       profile is because of several accomplishments: unique world class digital  public infrastructure, e.g., Aadhaar, Co-Win and UPI; Covid vaccination drive  in unparalleled scale and speed; proactive role in frontier areas such as  achieving the climate related goals, mission LiFE, and National Hydrogen  Mission.   5. During the Covid-19 pandemic, we ensured that no one goes to bed  hungry, with a scheme to supply free food grains to over 80 crore persons  for 28 months. Continuing our commitment to ensure food and nutritional  security, we are implementing, from 1st January 2023, a scheme to supply  free food grain to all Antyodaya and priority households for the next one  year, under PM Garib Kalyan Anna Yojana (PMGKAY). The entire  expenditure of about ` 2 lakh crore will be borne \n",
      "\n",
      "Page 6:\n",
      "by the Central  Government.  G20 Presidency: Steering the global agenda through challenges  6. In these times of global challenges, the G20 Presidency gives us a  unique opportunity to strengthen India’s role in the world economic order.  With the theme of ‘ Vasudhaiva Kutumbakam’ , we are steering an  ambitious, people-centric agenda to address global challenges, and to  facilitate sustainable economic development.   Achievements since 2014: Leaving no one behind  7. The government’s efforts since 2014 have ensured for all citizens a  better quality of living and a life of dignity. The per capita income has more  than doubled to ` 1.97 lakh.    8. In these nine years, the Indian economy has increased in size from  being 10th to 5th largest in the world. We have significantly improved our \n",
      "\n",
      "Page 6:\n",
      " position as a well-governed and innovative country with a conducive  environment for business as reflected in several global indices. We have  made significant progress in many Sustainable Development Goals.\n",
      "\n",
      "Page 7:\n",
      "3       9. The economy has become a lot more formalised as reflected in the  EPFO membership more than doubling to 27 crore, and 7,400 crore digital  payments of ` 126 lakh crore through UPI in 2022.     10. The efficient implementation of many schemes, with  universalisation of targeted benefits, has resulted in inclusive development.  Some of the schemes are:  i. 11.7 crore household toilets under Swachh Bharat Mission,   ii. 9.6 crore LPG connections under Ujjawala,   iii. 220 crore Covid vaccination of 102 crore persons,     iv. 47.8 crore PM Jan Dhan bank accounts,  v. Insurance cover for 44.6 crore persons under PM Suraksha  Bima and PM Jeevan Jyoti Yojana, and  vi. Cash transfer of ` 2.2 lakh crore to over 11.4 crore farmers  under PM Kisan Samman Nidhi.  Vision for Amrit Kaal  – an\n",
      "\n",
      "Page 7:\n",
      " empowered and inclusive economy  11. Our vision for the Amrit Kaal  includes technology-driven and  knowledge-based economy with strong public finances, and a robust  financial sector. To achieve this, Jan Bhagidari through Sabka Saath Sabka  Prayas  is essential.    12. The economic agenda for achieving this vision focuses on three  things: first, facilitating ample opportunities for citizens, especially the  youth, to fulfil their aspirations; second, providing strong impetus to growth  and job creation; and third, strengthening macro-economic stability.     13. To service these focus areas in our journey to India@100, we believe  that the following four opportunities can be transformative during Amrit  Kaal.\n",
      "\n",
      "Page 8:\n",
      "4       1) Economic Empowerment of Women : Deendayal Antyodaya Yojana  National Rural Livelihood Mission has achieved remarkable success  by mobilizing rural women into 81 lakh Self Help Groups. We will  enable these groups to reach the next stage of economic  empowerment through formation of large producer enterprises or  collectives with each having several thousand members and  managed professionally. They will be helped with supply of raw  materials and for better design, quality, branding and marketing of  their products. Through supporting policies, they will be enabled to  scale up their operations to serve the large consumer markets, as  has been the case with several start-ups growing into ‘Unicorns’.  2) PM VIshwakarma KAushal Samman (PM VIKAS) : For centuries,  traditional artis\n",
      "\n",
      "Page 8:\n",
      "ans and craftspeople, who work with their hands  using tools, have brought renown for India. They are generally  referred to as Vishwakarma. The art and handicraft created by them  represents the true spirit of Atmanirbhar Bharat. For the first time, a  package of assistance for them has been conceptualized. The new  scheme will enable them to improve the quality, scale and reach of  their products, integrating them with the MSME value chain. The  components of the scheme will include not only financial support  but also access to advanced skill training, knowledge of modern  digital techniques and efficient green technologies, brand  promotion, linkage with local and global markets, digital payments,  and social security. This will greatly benefit the Scheduled Castes,  Scheduled Tribes, \n",
      "\n",
      "Page 8:\n",
      "OBCs, women and people belonging to the weaker  sections.   3) Tourism : The country offers immense attraction for domestic as well  as foreign tourists. There is a large potential to be tapped in tourism.  The sector holds huge opportunities for jobs and entrepreneurship  for youth in particular.  Promotion of tourism will be taken up on  mission mode, with active participation of states, convergence of  government programmes and public-private partnerships.\n",
      "\n",
      "Page 9:\n",
      "5       4) Green Growth: We are implementing many programmes for green  fuel, green energy, green farming, green mobility, green buildings,  and green equipment, and policies for efficient use of energy across  various economic sectors. These green growth efforts help in  reducing carbon intensity of the economy and provides for large- scale green job opportunities.   Priorities of this Budget   14. The Budget adopts the following seven priorities. They complement  each other and act as the ‘Saptarishi’  guiding us through the Amrit Kaal.   1) Inclusive Development   2) Reaching the Last Mile  3) Infrastructure and Investment  4) Unleashing the Potential  5) Green Growth  6) Youth Power   7) Financial Sector  Priority 1: Inclusive Development   15. The Government’s philosophy of Sabka Saat\n",
      "\n",
      "Page 9:\n",
      "h Sabka Vikas  has  facilitated inclusive development covering in specific, farmers, women,  youth, OBCs, Scheduled Castes, Scheduled Tribes, divyangjan and  economically weaker sections, and overall priority for the underprivileged  (vanchiton ko variyata ). There has also been a sustained focus on Jammu &  Kashmir, Ladakh and the North-East. This Budget builds on those efforts.   Agriculture and Cooperation    Digital Public Infrastructure for Agriculture  16. Digital public infrastructure for agriculture will be built as an open  source, open standard and inter operable public good. This will enable\n",
      "\n",
      "Page 10:\n",
      "6       inclusive, farmer-centric solutions through relevant information services for  crop planning and health, improved access to farm inputs, credit, and  insurance, help for crop estimation, market intelligence, and support for  growth of agri-tech industry and start-ups.   Agriculture Accelerator Fund   17. An Agriculture Accelerator Fund will be set-up to encourage agri- startups by young entrepreneurs in rural areas. The Fund will aim at  bringing innovative and affordable solutions for challenges faced by  farmers. It will also bring in modern technologies to transform agricultural  practices, increase productivity and profitability.  Enhancing productivity of cotton crop   18. To enhance the productivity of extra-long staple cotton, we will  adopt a cluster-based and value chain a\n",
      "\n",
      "Page 10:\n",
      "pproach through Public Private  Partnerships (PPP). This will mean collaboration between farmers, state and  industry for input supplies, extension services, and market linkages.  Atmanirbhar Horticulture Clean Plant Program   19. We will launch an Atmanirbhar Clean Plant Program to boost  availability of disease-free, quality planting material for high value  horticultural crops at an outlay of ` 2,200 crore.  Global Hub for Millets: ‘Shree Anna’   20. “India is at the forefront of popularizing Millets, whose consumption  furthers nutrition, food security and welfare of farmers,” said Hon’ble Prime  Minister.  21.  We are the largest producer and second largest exporter of ‘Shree  Anna’  in the world. We grow several types of ' Shree Anna'  such as  jowar,  ragi, bajra, kuttu, ramdana, ka\n",
      "\n",
      "Page 10:\n",
      "ngni, kutki, kodo, cheena, and sama. These  have a number of health benefits, and have been an integral part of our  food for centuries. I acknowledge with pride the huge service done by small\n",
      "\n",
      "Page 11:\n",
      "7       farmers in contributing to the health of fellow citizens by growing these  ‘Shree Anna’.    22. Now to make India a global hub for ' Shree Anna' , the Indian Institute  of Millet Research, Hyderabad  will be supported as the Centre of Excellence  for sharing best practices, research and technologies at the international  level.     Agriculture Credit   23. The agriculture credit target will be increased   to ` 20 lakh crore with focus on animal husbandry, dairy and fisheries.   Fisheries  24. We will launch a new sub-scheme of PM Matsya Sampada Yojana  with targeted investment of ` 6,000 crore to further enable activities of  fishermen, fish vendors, and micro & small enterprises, improve value chain  efficiencies, and expand the market.  Cooperation  25. For farmers, especially sm\n",
      "\n",
      "Page 11:\n",
      "all and marginal farmers, and other  marginalised sections, the government is promoting cooperative-based  economic development model. A new Ministry of Cooperation was formed  with a mandate to realise the vision of ‘Sahakar Se Samriddhi’ . To realise  this vision, the government has already initiated computerisation of 63,000  Primary Agricultural Credit Societies (PACS) with an investment of ` 2,516  crore. In consultation with all stakeholders and states, model bye-laws for  PACS were formulated enabling them to become multipurpose PACS. A  national cooperative database is being prepared for country-wide mapping  of cooperative societies.   26. With this backdrop, we will implement a plan to set up massive  decentralised storage capacity. This will help farmers store their produce  and\n",
      "\n",
      "Page 11:\n",
      " realize remunerative prices through sale at appropriate times. The  government will also facilitate setting up of a large number of multipurpose\n",
      "\n",
      "Page 12:\n",
      "8       cooperative societies, primary fishery societies and dairy cooperative  societies in uncovered panchayats and villages in the next 5 years.   Health, Education and Skilling  Nursing Colleges     27 . One hundred and fifty-seven new nursing colleges will be  established in co-location with the existing 157 medical colleges established  since 2014.  Sickle Cell Anaemia Elimination Mission   28. A Mission to eliminate Sickle Cell Anaemia by 2047 will be launched.  It will entail awareness creation, universal screening of 7 crore people in the  age group of 0-40 years in affected tribal areas, and counselling through  collaborative efforts of central ministries and state governments.   Medical Research   29. Facilities in select ICMR Labs will be made available for research by  public \n",
      "\n",
      "Page 12:\n",
      "and private medical college faculty and private sector R&D teams for  encouraging collaborative research and innovation.  Pharma Innovation   30. A new programme to promote research and innovation in  pharmaceuticals will be taken up through centers of excellence. We shall  also encourage industry to invest in research and development in specific  priority areas.   Multidisciplinary courses for medical devices  31. Dedicated multidisciplinary courses for medical devices will be  supported in existing institutions to ensure availability of skilled manpower  for futuristic medical technologies, high-end manufacturing and research.\n",
      "\n",
      "Page 13:\n",
      "9       Teachers’ Training  32. Teachers’ training will be re-envisioned through innovative  pedagogy, curriculum transaction, continuous professional development,  dipstick surveys, and ICT implementation. The District Institutes of  Education and Training will be developed as vibrant institutes of excellence  for this purpose.    National Digital Library for Children and Adolescents   33. A National Digital Library for children and adolescents  will be set-up  for facilitating availability of quality books across geographies, languages,  genres and levels, and device agnostic accessibility. States will be  encouraged to set up physical libraries for them at panchayat and ward  levels and provide infrastructure for accessing the National Digital Library  resources.  34. Additionally, to b\n",
      "\n",
      "Page 13:\n",
      "uild a culture of reading, and to make up for  pandemic-time learning loss, the National Book Trust, Children’s Book Trust  and other sources will be encouraged to provide and replenish non- curricular titles in regional languages and English to these physical libraries.  Collaboration with NGOs that work in literacy will also be a part of this  initiative. To inculcate financial literacy, financial sector regulators and  organizations will be encouraged to provide age-appropriate reading  material to these libraries.   Priority 2: Reaching the Last Mile  35. Prime Minister Vajpayee’s government had formed the Ministry of  Tribal Affairs and the Department of Development of North-Eastern Region.  To provide a sharper focus to the objective of ‘reaching the last mile’, our  government has f\n",
      "\n",
      "Page 13:\n",
      "ormed the ministries of AYUSH, Fisheries, Animal  Husbandry and Dairying, Skill Development, Jal Shakti and Cooperation.\n",
      "\n",
      "Page 14:\n",
      "10       Aspirational Districts and Blocks Programme  36. Building on the success of the Aspirational Districts Programme, the  Government has recently launched the Aspirational Blocks Programme  covering 500 blocks for saturation of essential government services across  multiple domains such as health, nutrition, education, agriculture, water  resources, financial inclusion, skill development, and basic infrastructure.  Pradhan Mantri PVTG Development Mission  37. To improve socio-economic conditions of the particularly vulnerable  tribal groups (PVTGs), Pradhan Mantri PVTG Development Mission will be  launched. This will saturate PVTG families and habitations with basic  facilities such as safe housing, clean drinking water and sanitation,  improved access to education, health and nutrit\n",
      "\n",
      "Page 14:\n",
      "ion, road and telecom  connectivity, and sustainable livelihood opportunities. An amount   of ` 15,000 crore will be made available to implement the Mission in the  next three years under the Development Action Plan for the Scheduled  Tribes.   Eklavya Model Residential Schools  38. In the next three years, centre will recruit 38,800 teachers and  support staff for the 740 Eklavya Model Residential Schools, serving 3.5 lakh  tribal students.  Water for Drought Prone Region  39. In the drought prone central region of Karnataka, central assistance  of ` 5,300 crore will be given to Upper Bhadra Project to provide  sustainable micro irrigation and filling up of surface tanks for drinking  water.   PM Awas Yojana  40. The outlay for PM Awas Yojana is being enhanced   by 66 per cent to over ` 7\n",
      "\n",
      "Page 14:\n",
      "9,000 crore.\n",
      "\n",
      "Page 15:\n",
      "11       Bharat Shared Repository of Inscriptions (Bharat  SHRI)  41. ‘Bharat Shared Repository of Inscriptions’ will be set up in a digital  epigraphy museum, with digitization of one lakh ancient inscriptions in the  first stage.    Support for poor prisoners  42. For poor persons who are in prisons and unable to afford the  penalty or the bail amount, required financial support will be provided.      Priority 3: Infrastructure & Investment  43. Investments in Infrastructure and productive capacity have a large  multiplier impact on growth and employment. After the subdued period of  the pandemic, private investments are growing again. The Budget takes the  lead once again to ramp up the virtuous cycle of investment and job  creation.       Capital Investment as driver of growth and jobs\n",
      "\n",
      "Page 15:\n",
      "  44. Capital investment outlay is being increased steeply for the third  year in a row by 33 per cent to ` 10 lakh crore, which would be 3.3 per cent  of GDP. This will be almost three times the outlay in 2019-20.    45. This substantial increase in recent years is central to the  government’s efforts to enhance growth potential and job creation, crowd- in private investments, and provide a cushion against global headwinds.  Effective Capital Expenditure   46. The direct capital investment by the Centre is complemented by the  provision made for creation of capital assets through Grants-in-Aid to  States. The ‘Effective Capital Expenditure’ of the Centre is budgeted at   ` 13.7 lakh crore, which will be 4.5 per cent of GDP.\n",
      "\n",
      "Page 16:\n",
      "12       Support to State Governments for Capital Investment  47. I have decided to continue the 50-year interest free loan to state  governments for one more year to spur investment in infrastructure and to  incentivize them for complementary policy actions, with a significantly  enhanced outlay of ` 1.3 lakh crore.    Enhancing opportunities for private investment in Infrastructure  48. The newly established Infrastructure Finance Secretariat will assist  all stakeholders for more private investment in infrastructure, including  railways, roads, urban infrastructure and power, which are predominantly  dependent on public resources.   Harmonized Master List of Infrastructure  49. The Harmonized Master List of Infrastructure will be reviewed by an  expert committee for recommending the cla\n",
      "\n",
      "Page 16:\n",
      "ssification and financing  framework suitable for Amrit Kaal .  Railways  50. A capital outlay of ` 2.40 lakh crore has been provided for the  Railways. This highest ever outlay is about 9 times the outlay made in 2013- 14.   Logistics  51. One hundred critical transport infrastructure projects, for last and  first mile connectivity for ports, coal, steel, fertilizer, and food grains sectors  have been identified. They will be taken up on priority with investment of  ` 75,000 crore, including ` 15,000 crore from private sources.  Regional Connectivity  52. Fifty additional airports, heliports, water aerodromes and advance  landing grounds will be revived for improving regional air connectivity.\n",
      "\n",
      "Page 17:\n",
      "13       Sustainable Cities of Tomorrow  53. States and cities will be encouraged to undertake urban planning  reforms and actions to transform our cities into ‘sustainable cities of  tomorrow’. This means efficient use of land resources, adequate resources  for urban infrastructure, transit-oriented development, enhanced  availability and affordability of urban land, and opportunities for all.   Making Cities ready for Municipal Bonds  54. Through property tax governance reforms and ring-fencing user  charges on urban infrastructure, cities will be incentivized to improve their  credit worthiness for municipal bonds.    Urban Infrastructure Development Fund   55. Like the RIDF, an Urban Infrastructure Development Fund (UIDF) will  be established through use of priority sector lending shor\n",
      "\n",
      "Page 17:\n",
      "tfall. This will be  managed by the National Housing Bank, and will be used by public agencies  to create urban infrastructure in Tier 2 and Tier 3 cities. States will be  encouraged to leverage resources from the grants of the 15th Finance  Commission, as well as existing schemes, to adopt appropriate user charges  while accessing the UIDF. We expect to make   available ` 10,000 crore per annum for this purpose.  Urban Sanitation  56. All cities and towns will be enabled for 100 per cent mechanical  desludging of septic tanks and sewers to transition from manhole to  machine-hole mode. Enhanced focus will be provided for scientific  management of dry and wet waste.  Priority 4: Unleashing the Potential  57. “Good Governance is the key to a nation’s progress. Our government  is committed t\n",
      "\n",
      "Page 17:\n",
      "o providing a transparent and accountable administration  which works for the betterment and welfare of the common citizen,”  said  Hon’ble Prime Minister.\n",
      "\n",
      "Page 18:\n",
      "14       Mission Karmayogi  58. Under Mission Karmayogi, Centre, States and Union Territories are  making and implementing capacity-building plans for civil servants. The  government has also launched an integrated online training platform, iGOT  Karmayogi , to provide continuous learning opportunities for lakhs of  government employees to upgrade their skills and facilitate people-centric  approach.    59. For enhancing ease of doing business, more than   39,000 compliances have been reduced and more than   3,400 legal provisions have been decriminalized. For furthering the trust- based governance, we have introduced the Jan Vishwas Bill to amend 42  Central Acts. This Budget proposes a series of measures to unleash the  potential of our economy.   Centres of Excellence for Artificial Int\n",
      "\n",
      "Page 18:\n",
      "elligence  60. For realizing the vision of “Make AI in India and Make AI work for  India”,  three centres of excellence for Artificial Intelligence will be set-up in  top educational institutions. Leading industry players will partner in  conducting interdisciplinary research, develop cutting-edge applications and  scalable problem solutions in the areas of agriculture, health, and  sustainable cities. This will galvanize an effective AI ecosystem and nurture  quality human resources in the field.  National Data Governance Policy   61. To unleash innovation and research by start-ups and academia, a  National Data Governance Policy will be brought out. This will enable access  to anonymized data.  Simplification of Know Your Customer (KYC) process   62. The KYC process will be simplified ad\n",
      "\n",
      "Page 18:\n",
      "opting a ‘risk-based’ instead of  ‘one size fits all’ approach. The financial sector regulators will also be\n",
      "\n",
      "Page 19:\n",
      "15       encouraged to have a KYC system fully amenable to meet the needs of  Digital India.  One stop solution for identity and address updating   63. A one stop solution for reconciliation and updating of identity and  address of individuals maintained by various government agencies,  regulators and regulated entities will be established using DigiLocker service  and Aadhaar as foundational identity.     Common Business Identifier    64. For the business establishments required to have a Permanent  Account Number (PAN), the PAN will be used as the common identifier for  all digital systems of specified government agencies. This will bring ease of  doing business; and it will be facilitated through a legal mandate.  Unified Filing Process  65. For obviating the need for separate submissio\n",
      "\n",
      "Page 19:\n",
      "n of same information  to different government agencies, a system of ‘Unified Filing Process’ will be  set-up. Such filing of information or return in simplified forms on a common  portal, will be shared with other agencies as per filer’s choice.   Vivad se Vishwas I – Relief for MSMEs   66. In cases of failure by MSMEs to execute contracts during the Covid  period, 95 per cent of the forfeited amount relating to bid or performance  security, will be returned to them by government and government  undertakings.  This will provide relief to MSMEs.   Vivad se Vishwas II – Settling Contractual Disputes   67. To settle contractual disputes of government and government  undertakings, wherein arbitral award is under challenge in a court, a  voluntary settlement scheme with standardized terms will\n",
      "\n",
      "Page 19:\n",
      " be introduced.  This will be done by offering graded settlement terms depending on  pendency level of the dispute.\n",
      "\n",
      "Page 20:\n",
      "16       State Support Mission   68. The State Support Mission of NITI Aayog will be continued for three  years for our collective efforts towards national priorities.  Result Based Financing   69. To better allocate scarce resources for competing development  needs, the financing of select schemes will be changed, on a pilot basis,  from ‘input-based’ to ‘result-based’.  E-Courts   70. For efficient administration of justice, Phase-3 of the   E-Courts project will be launched with an outlay   of ` 7,000 crore.   Fintech Services   71. Fintech services in India have been facilitated by our digital public  infrastructure including Aadhaar, PM Jan Dhan Yojana, Video KYC, India  Stack and UPI. To enable more Fintech innovative services, the scope of  documents available in DigiLocker for indi\n",
      "\n",
      "Page 20:\n",
      "viduals will be expanded.   Entity DigiLocker   72. An Entity DigiLocker will be set up for use by MSMEs, large business  and charitable trusts. This will be towards storing and sharing documents  online securely, whenever needed, with various authorities, regulators,  banks and other business entities.   5G Services   73. One hundred labs for developing applications using   5G services will be set up in engineering institutions to realise a new range  of opportunities, business models, and employment potential. The  labs will  cover, among others, applications such as smart classrooms, precision  farming, intelligent transport systems, and health care applications.\n",
      "\n",
      "Page 21:\n",
      "17       Lab Grown Diamonds   74. Lab Grown Diamonds (LGD) is a technology-and innovation-driven  emerging sector with high employment potential. These environment- friendly diamonds which have optically and chemically the same properties  as natural diamonds. To encourage indigenous production of LGD seeds and  machines and to reduce import dependency, a research and development  grant will be provided to one of the IITs for five years.    75. To reduce the cost of production, a proposal to review the custom  duty rate on LGD seeds will be indicated in Part B of the speech.    Priority 5: Green Growth   76. Hon’ble Prime Minister has given a vision for “LiFE”, or Lifestyle for  Environment, to spur a movement of environmentally conscious lifestyle.  India is moving forward firmly for the \n",
      "\n",
      "Page 21:\n",
      "‘panchamrit’  and net-zero carbon  emission by 2070 to usher in green industrial and economic transition. This  Budget builds on our focus on green growth.     Green Hydrogen Mission  77. The recently launched National Green Hydrogen Mission, with an  outlay of ` 19,700 crores, will facilitate transition of the economy to low  carbon intensity, reduce dependence on fossil fuel imports, and make the  country assume technology and market leadership in this sunrise sector.  Our target is to reach an annual production of 5 MMT by 2030.   Energy Transition  78. This Budget provides ` 35,000 crore for priority capital investments  towards energy transition and net zero objectives, and energy security by  Ministry of Petroleum & Natural Gas.   Energy Storage Projects  79. To steer the economy on \n",
      "\n",
      "Page 21:\n",
      "the sustainable development path, Battery  Energy Storage Systems with capacity of 4,000 MWH will be supported with\n",
      "\n",
      "Page 22:\n",
      "18       Viability Gap Funding. A detailed framework for Pumped Storage Projects  will also be formulated.   Renewable Energy Evacuation  80. The Inter-state transmission system for evacuation and grid  integration of 13 GW renewable energy from Ladakh will be constructed  with investment of ` 20,700 crore including central support of ` 8,300 crore.  Green Credit Programme  81. For encouraging behavioural change, a Green Credit Programme will  be notified under the Environment (Protection) Act. This will incentivize  environmentally sustainable and responsive actions by companies,  individuals and local bodies, and help mobilize additional resources for such  activities.   PM-PRANAM  82. “PM Programme for Restoration, Awareness, Nourishment and  Amelioration of Mother Earth” will be launch\n",
      "\n",
      "Page 22:\n",
      "ed to incentivize States and  Union Territories to promote alternative fertilizers and balanced use of  chemical fertilizers.  GOBARdhan scheme  83. 500 new ‘waste to wealth’ plants under GOBARdhan (Galvanizing  Organic Bio-Agro Resources Dhan) scheme will be established for promoting  circular economy. These will include 200 compressed biogas (CBG) plants,  including 75 plants in urban areas, and 300 community or cluster-based  plants at total investment of ` 10,000 crore. I will refer to this in Part B. In  due course, a 5 per cent CBG mandate will be introduced for all  organizations marketing natural and bio gas. For collection of bio-mass and  distribution of bio-manure, appropriate fiscal support will be provided.\n",
      "\n",
      "Page 23:\n",
      "19       Bhartiya Prakritik Kheti Bio-Input Resource Centres     84. Over the next 3 years, we will facilitate 1 crore farmers to adopt  natural farming. For this, 10,000 Bio-Input Resource Centres will be set-up,  creating a national-level distributed micro-fertilizer and pesticide  manufacturing network.   MISHTI  85. Building on India’s success in afforestation, ‘Mangrove Initiative for  Shoreline Habitats & Tangible Incomes’, MISHTI, will be taken up for  mangrove plantation along the coastline and on salt pan lands, wherever  feasible, through convergence between MGNREGS, CAMPA Fund and other  sources.  Amrit Dharohar  86. Wetlands are vital ecosystems which sustain biological diversity. In  his latest Mann Ki Baat, the Prime Minister said, “Now the total number of  Ramsar sites in ou\n",
      "\n",
      "Page 23:\n",
      "r country has increased to 75. Whereas, before 2014,  there were only 26…”  Local communities have always been at the forefront  of conservation efforts. The government will promote their unique  conservation values through Amrit Dharohar , a scheme that will be  implemented over the next three years to encourage optimal use of  wetlands, and enhance bio-diversity, carbon stock,   eco-tourism opportunities and income generation for local communities.   Coastal Shipping  87. Coastal shipping will be promoted as the energy efficient and lower  cost mode of transport, both for passengers and freight, through PPP mode  with viability gap funding.    Vehicle Replacement  88. Replacing old polluting vehicles is an important part of greening our  economy. In furtherance of the vehicle scrapping p\n",
      "\n",
      "Page 23:\n",
      "olicy mentioned in  Budget 2021-22, I have allocated adequate funds to scrap old vehicles of\n",
      "\n",
      "Page 24:\n",
      "20       the Central Government. States will also be supported in replacing old  vehicles and ambulances.   Priority 6: Youth Power   89. To empower our youth and help the ‘ Amrit Peedhi ’ realize their  dreams, we have formulated the National Education Policy, focused on  skilling, adopted economic policies that facilitate job creation at scale, and  have supported business opportunities.    Pradhan Mantri Kaushal Vikas Yojana 4.0  90. Pradhan Mantri Kaushal Vikas Yojana 4.0 will be launched to skill  lakhs of youth within the next three years.  On-job training, industry  partnership, and alignment of courses with needs of industry will be  emphasized. The scheme will also cover new age courses for Industry 4.0  like coding, AI, robotics, mechatronics, IOT, 3D printing, drones, and soft  \n",
      "\n",
      "Page 24:\n",
      "skills. To skill youth for international opportunities, 30 Skill India  International Centres will be set up across different States.     Skill India Digital Platform   91. The digital ecosystem for skilling will be further expanded with the  launch of a unified Skill India Digital platform for:  - enabling demand-based formal skilling,   - linking with employers including MSMEs, and  - facilitating access to entrepreneurship schemes.   National Apprenticeship Promotion Scheme   92. To provide stipend support to 47 lakh youth in three years, Direct  Benefit Transfer under a pan-India National Apprenticeship Promotion  Scheme will be rolled out.\n",
      "\n",
      "Page 25:\n",
      "21       Tourism  93. With an integrated and innovative approach, at   least 50 destinations will be selected through challenge mode. In addition to  aspects such as physical connectivity, virtual connectivity, tourist guides,  high standards for food streets and tourists’ security, all the relevant  aspects would be made available on an App to enhance tourist experience.  Every destination would be developed as a complete package. The focus of  development of tourism would be on domestic as well as foreign tourists.   94. Sector specific skilling and entrepreneurship development will be  dovetailed to achieve the objectives of the ‘Dekho Apna Desh’ initiative.  This was launched as an appeal by the Prime Minister to the middle class to  prefer domestic tourism over international tourism. \n",
      "\n",
      "Page 25:\n",
      "For integrated  development of theme-based tourist circuits, the ‘Swadesh Darshan  Scheme’ was also launched. Under the Vibrant Villages Programme, tourism  infrastructure and amenities will also be facilitated in border villages.   Unity Mall  95. States will be encouraged to set up a Unity Mall in their state capital  or most prominent tourism centre or the financial capital for promotion and  sale of their own ODOPs (one district, one product), GI products and other  handicraft products, and for providing space for such products of all other  States.    Priority 7: Financial Sector  96. Our reforms in the financial sector and innovative use of technology  have led to financial inclusion at scale, better and faster service delivery,  ease of access to credit and participation in financia\n",
      "\n",
      "Page 25:\n",
      "l markets. This Budget  proposes to further these measures.     Credit Guarantee for MSMEs  97. Last year, I proposed revamping of the credit guarantee scheme for  MSMEs. I am happy to announce that the revamped scheme will take effect\n",
      "\n",
      "Page 26:\n",
      "22       from 1st April 2023 through infusion of ` 9,000 crore in the corpus. This will  enable additional collateral-free guaranteed credit of ` 2 lakh crore.  Further, the cost of the credit will be reduced by about 1 per cent.      National Financial Information Registry   98. A national financial information registry will be set up to serve as the  central repository of financial and ancillary information. This will facilitate  efficient flow of credit, promote financial inclusion, and foster financial  stability. A new legislative framework will govern this credit public  infrastructure, and it will be designed in consultation with the RBI.  Financial Sector Regulations   99. To meet the needs of Amrit Kaal  and to facilitate optimum  regulation in the financial sector, public consult\n",
      "\n",
      "Page 26:\n",
      "ation, as necessary and  feasible, will be brought to the process of regulation-making and issuing  subsidiary directions.  100. To simplify, ease and reduce cost of compliance, financial sector  regulators will be requested to carry out a comprehensive review of existing  regulations. For this, they will consider suggestions from public and  regulated entities. Time limits to decide the applications under various  regulations will also be laid down.  GIFT IFSC   101. To enhance business activities in GIFT IFSC, the following measures  will be taken:  - Delegating powers under the SEZ Act to IFSCA to avoid dual  regulation,  - Setting up a single window IT system for registration and  approval from IFSCA, SEZ authorities, GSTN, RBI, SEBI and  IRDAI,\n",
      "\n",
      "Page 27:\n",
      "23       - Permitting acquisition financing by IFSC Banking Units of  foreign banks,   - Establishing a subsidiary of EXIM Bank for trade   re-financing,  - Amending IFSCA Act for statutory provisions for arbitration,  ancillary services, and avoiding dual regulation under SEZ Act,  and  - Recognizing offshore derivative instruments as valid contracts.     Data Embassy  102. For countries looking for digital continuity solutions, we will  facilitate setting up of their Data Embassies in GIFT IFSC.   Improving Governance and Investor Protection in Banking Sector  103. To improve bank governance and enhance investors’ protection,  certain amendments to the Banking Regulation Act, the Banking Companies  Act and the Reserve Bank of India Act are proposed.    Ca pacity Building in Securities Ma\n",
      "\n",
      "Page 27:\n",
      "rket  104. To build capacity of functionaries and professionals in the securities  market, SEBI will be empowered to develop, regulate, maintain and enforce  norms and standards for education in the National Institute of Securities  Markets and to recognize award of degrees, diplomas and certificates.   Central Data Processing Centre   105. A Central Processing Centre will be setup for faster response to  companies through centralized handling of various forms filed with field  offices under the Companies Act.\n",
      "\n",
      "Page 28:\n",
      "24       Reclaiming of shares and dividends   106. For investors to reclaim unclaimed shares and unpaid dividends  from the Investor Education and Protection Fund Authority with ease, an  integrated IT portal will be established.  Digital Payments   107. Digital payments continue to find wide acceptance. In 2022, they  show increase of 76 per cent in transactions   and 91 per cent in value. Fiscal support for this digital public infrastructure  will continue in 2023-24.   Azadi Ka Amrit Mahotsav Mahila Samman Bachat Patra   108. For commemorating Azadi Ka Amrit Mahotsav, a one-time new small  savings scheme, Mahila Samman Savings Certificate, will be made available  for a two-year period up to March 2025. This will offer deposit facility upto  ` 2 lakh in the name of women or girls for a t\n",
      "\n",
      "Page 28:\n",
      "enor of 2 years at fixed  interest rate of 7.5 per cent with partial withdrawal option.   Senior Citizens   109. The maximum deposit limit for Senior Citizen Savings Scheme will be  enhanced from ` 15 lakh to ` 30 lakh.  110.  The maximum deposit limit for Monthly Income Account Scheme  will be enhanced from ` 4.5 lakh to ` 9 lakh for single account and from ` 9  lakh to ` 15 lakh for joint account.  Fiscal Management  Fifty-year interest free loan to States  111. The entire fifty-year loan to states has to be spent on capital  expenditure within 2023-24. Most of this will be at the discretion of states,  but a part will be conditional on states increasing their actual capital\n",
      "\n",
      "Page 29:\n",
      "25       expenditure. Parts of the outlay will also be linked to, or allocated for, the  following purposes:  - Scrapping old government vehicles,  - Urban planning reforms and actions,  - Financing reforms in urban local bodies to make them  creditworthy for municipal bonds,  - Housing for police personnel above or as part of police stations,   - Constructing Unity Malls,  - Children and adolescents’ libraries and digital infrastructure,  and  - State share of capital expenditure of central schemes.  Fiscal Deficit of States  112. States will be allowed a fiscal deficit of 3.5 per cent of GSDP of which  0.5 per cent will be tied to power sector reforms.   Revised Estimates 2022-23  113. The Revised Estimate of the total receipts other than borrowings is   ` 24.3 lakh crore, of which the n\n",
      "\n",
      "Page 29:\n",
      "et tax receipts   are ` 20.9 lakh crore. The Revised Estimate of the total expenditure is   ` 41.9 lakh crore, of which the capital expenditure is about ` 7.3 lakh crore.       114. The Revised Estimate of the fiscal deficit is 6.4 per cent of GDP,  adhering to the Budget Estimate.         Budget Estimates 2023-24  115. Coming to 2023-24, the total receipts other than borrowings and the  total expenditure are estimated at ` 27.2 lakh crore and ` 45 lakh crore  respectively. The net tax receipts are estimated at ` 23.3 lakh crore.\n",
      "\n",
      "Page 30:\n",
      "26       116. The fiscal deficit is estimated to be 5.9 per cent of GDP. In my  Budget Speech for 2021-22, I had announced that we plan to continue the  path of fiscal consolidation, reaching a fiscal deficit below 4.5 per cent by  2025-26 with a fairly steady decline over the period. We have adhered to  this path, and I reiterate my intention to bring the fiscal deficit below 4.5  per cent of GDP by 2025-26.   117.  To finance the fiscal deficit in 2023-24, the net market borrowings  from dated securities are estimated at ` 11.8 lakh crore. The balance  financing is expected to come from small savings and other sources. The  gross market borrowings are estimated at ` 15.4 lakh crore.  I will, now, move to Part B.\n",
      "\n",
      "Page 31:\n",
      "27       PART B  Indirect Taxes  118. My indirect tax proposals aim to promote exports, boost domestic  manufacturing, enhance domestic value addition, encourage green energy  and mobility.   119. A simplified tax structure with fewer tax rates helps in reducing  compliance burden and improving tax administration. I propose to reduce  the number of basic customs duty rates on goods, other than textiles and  agriculture, from 21 to 13. As a result, there are minor changes in the basic  custom duties, cesses and surcharges on some items including toys,  bicycles, automobiles and naphtha.    Green Mobility  120. To avoid cascading of taxes on blended compressed natural gas, I  propose to exempt excise duty on GST-paid compressed bio gas contained  in it. To further provide impetus to green mo\n",
      "\n",
      "Page 31:\n",
      "bility, customs duty exemption  is being extended to import of capital goods and machinery required for  manufacture of lithium-ion cells for batteries used in electric vehicles.  Electronics   121. As a result of various initiatives of the Government, including the  Phased Manufacturing programme, mobile phone production in India has  increased from 5.8 crore units valued at about ` 18,900 crore in 2014-15 to  31 crore units valued at over ` 2,75,000 crore in the last financial year. To  further deepen domestic value addition in manufacture of mobile phones, I  propose to provide relief in customs duty on import of certain parts and  inputs like camera lens and continue the concessional duty on lithium-ion  cells for batteries for another year.\n",
      "\n",
      "Page 32:\n",
      "28       122. Similarly, to promote value addition in manufacture of televisions, I  propose to reduce the basic customs duty on parts of open cells of TV  panels to 2.5 per cent.   Electrical   123. To rectify inversion of duty structure and encourage manufacturing  of electric kitchen chimneys, the basic customs duty on electric kitchen  chimney is being increased from 7.5 per cent to 15 per cent and that on  heat coils for these is proposed to be reduced from 20 per cent to 15 per  cent.  Chemicals and Petrochemicals   124. Denatured ethyl alcohol is used in chemical industry.   I propose to exempt basic customs duty on it. This will also support the  Ethanol Blending Programme and facilitate our endeavour for energy  transition. Basic customs duty is also being reduced on acid grade fl\n",
      "\n",
      "Page 32:\n",
      "uorspar  from 5 per cent to 2.5 per cent to make the domestic fluorochemicals  industry competitive. Further, the basic customs duty on crude glycerin for  use in manufacture of epicholorhydrin is proposed to be reduced from 7.5  per cent to 2.5 per cent.  Marine products  125. In the last financial year, marine products recorded the highest  export growth benefitting farmers in the coastal states of the country. To  further enhance the export competitiveness of marine products,  particularly shrimps, duty is being reduced on key inputs for domestic  manufacture of shrimp feed.  Lab Grown Diamonds  126. India is a global leader in cutting and polishing of natural diamonds,  contributing about three-fourths of the global turnover by value. With the  depletion in deposits of natural diamonds\n",
      "\n",
      "Page 32:\n",
      ", the industry is moving towards  Lab Grown Diamonds (LGDs) and it holds huge promise. To seize this\n",
      "\n",
      "Page 33:\n",
      "29       opportunity, I propose to reduce basic customs duty on seeds used in their  manufacture.     Precious Metals  127. Customs Duties on dore and bars of gold and platinum were  increased earlier this fiscal. I now propose to increase the duties on articles  made therefrom to enhance the duty differential. I also propose to increase  the import duty on silver dore, bars and articles to align them with that on  gold and platinum.  Metals  128. To facilitate availability of raw materials for the steel sector,  exemption from Basic Customs Duty on raw materials for manufacture of  CRGO Steel, ferrous scrap and nickel cathode is being continued.  129. Similarly, the concessional BCD of 2.5 per cent on copper scrap is  also being continued to ensure the availability of raw materials for  s\n",
      "\n",
      "Page 33:\n",
      "econdary copper producers who are mainly in the MSME sector.  Compounded Rubber  130. The basic customs duty rate on compounded rubber is being  increased from 10 per cent to ‘25 per cent or ` 30/kg whichever is lower’, at  par with that on natural rubber other than latex, to curb circumvention of  duty.   Cigarettes  131. National Calamity Contingent Duty (NCCD) on specified cigarettes  was last revised three years ago. This is proposed to be revised upwards by  about 16 per cent.\n",
      "\n",
      "Page 34:\n",
      "30         Direct Taxes  132. I now come to my direct tax proposals. These proposals aim to  maintain continuity and stability of taxation, further simplify and rationalise  various provisions to reduce the compliance burden, promote the  entrepreneurial spirit and provide tax relief to citizens.  133. It has been the constant endeavour of the Income Tax Department  to improve Tax Payers Services by making compliance easy and smooth. Our  tax payers’ portal received a maximum of 72 lakh returns in a day;  processed more than 6.5 crore returns this year; average processing period  reduced from 93 days in financial year 13-14 to 16 days now;   and 45 per cent of the returns were processed within 24 hours. We intend  to further improve this, roll out a next-generation Common IT Return Form  f\n",
      "\n",
      "Page 34:\n",
      "or tax payer convenience, and also plan to strengthen the grievance  redressal mechanism.   MSMEs and Professionals   134. MSMEs are growth engines of our economy.  Micro enterprises with  turnover up to ` 2 crore and certain professionals with turnover of up to   ` 50 lakh can avail the benefit of presumptive taxation. I propose to provide  enhanced limits of ` 3 crore and ` 75 lakh respectively, to the tax payers  whose cash receipts are no more than 5 per cent. Moreover, to support  MSMEs in timely receipt of payments, I propose to allow deduction for  expenditure incurred on payments made to them only when payment is  actually made.   Cooperation  135. Cooperation is a value to be cherished. In realizing our Prime  Minister’s goal of “Sahkar se Samriddhi ”, and his resolve to “connect \n",
      "\n",
      "Page 34:\n",
      "the  spirit of cooperation with the spirit of Amrit Kaal”, in addition to the  measures proposed in Part A, I have a slew of proposals for the co-operative  sector.\n",
      "\n",
      "Page 35:\n",
      "31       136. First, new co-operatives that commence manufacturing activities till  31.3.2024 shall get the benefit of a lower tax rate of 15 per cent, as is  presently available to new manufacturing companies.  137. Secondly, I propose to provide an opportunity to sugar co-operatives  to claim payments made to sugarcane farmers for the period prior to  assessment year 2016-17 as expenditure. This is expected to provide them  with a relief of almost ` 10,000 crore.   138. Thirdly, I am providing a higher limit of ` 2 lakh per member for cash  deposits to and loans in cash by Primary Agricultural Co-operative Societies  (PACS) and Primary Co-operative Agriculture and Rural Development Banks  (PCARDBs).   139. Similarly, a higher limit of ` 3 crore for TDS on cash withdrawal is  being provid\n",
      "\n",
      "Page 35:\n",
      "ed to co-operative societies.  Start-Ups  140. Entrepreneurship is vital for a country’s economic development. We  have taken a number of measures for start-ups and they have borne results.  India is now the third largest ecosystem for start-ups globally, and ranks  second in innovation quality among middle-income countries. I propose to  extend the date of incorporation for income tax benefits to start-ups from  31.03.23 to 31.3.24. I further propose to provide the benefit of carry  forward of losses on change of shareholding of start-ups from seven years  of incorporation to ten years.  Appeals  141. To reduce the pendency of appeals at Commissioner level, I propose  to deploy about 100 Joint Commissioners for disposal of small appeals. We  shall also be more selective in taking up cases\n",
      "\n",
      "Page 35:\n",
      " for scrutiny of returns already  received this year.\n",
      "\n",
      "Page 36:\n",
      "32       Better targeting of tax concessions  142. For better targeting of tax concessions and exemptions,   I propose to cap deduction from capital gains on investment in residential  house under sections 54 and 54F to ` 10 crore. Another proposal with  similar intent is to limit income tax exemption from proceeds of insurance  policies with very high value.  Rationalisation  143. There are a number of proposals relating to rationalisation and  simplification. Income of authorities, boards and commissions set up by  statutes of the Union or State for the purpose of housing, development of  cities, towns and villages, and regulating, or regulating and developing an  activity or matter, is proposed to be exempted from income tax. Other  major measures in this direction are:  - Removing the \n",
      "\n",
      "Page 36:\n",
      "minimum threshold of ` 10,000/- for TDS and  clarifying taxability relating to online gaming;  - Not treating conversion of gold into electronic gold receipt and vice  versa as capital gain;   - Reducing the TDS rate from 30 per cent to 20 per cent on taxable  portion of EPF withdrawal in non-PAN cases; and  - Taxation on income from Market Linked Debentures.  Others  144. Other major proposals in the Finance Bill relate to the following:  - Extension of period of tax benefits to funds relocating to IFSC, GIFT  City till 31.03.2025;  - Decriminalisation under section 276A of the Income Tax Act;  - Allowing carry forward of losses on strategic disinvestment including  that of IDBI Bank; and  - Providing EEE status to Agniveer Fund.\n",
      "\n",
      "Page 37:\n",
      "33       Personal Income Tax  145. Now, I come to what everyone is waiting for -- personal income tax. I  have five major announcements to make in this regard. These primarily  benefit our hard-working middle class.  146. The first one concerns rebate. Currently, those with income up to   ` 5 lakh do not pay any income tax in both old and new tax regimes. I  propose to increase the rebate limit to ` 7 lakh in the new tax regime. Thus,  persons in the new tax regime, with income up to ` 7 lakh will not have to  pay any tax.   147. The second proposal relates to middle-class individuals.   I had introduced, in the year 2020, the new personal income tax regime  with six income slabs starting from ` 2.5 lakh. I propose to change the tax  structure in this regime by reducing the number of slabs\n",
      "\n",
      "Page 37:\n",
      " to five and  increasing the tax exemption limit to ` 3 lakh. The new tax rates are:  ` 0-3 lakh Nil  ` 3-6 lakh 5 per cent  ` 6-9 lakh 10 per cent  ` 9-12 lakh 15 per cent  ` 12-15 lakh 20 per cent  Above ` 15 lakh 30 per cent    148. This will provide major relief to all tax payers in the new regime. An  individual with an annual income of ` 9 lakh will be required to pay only   ` 45,000/-. This is only 5 per cent of his or her income. It is a reduction of 25  per cent on what he or she is required to pay now, ie, ` 60,000/-. Similarly,  an individual with an income of ` 15 lakh would be required to pay only   ` 1.5 lakh or 10 per cent of his or her income, a reduction of 20 per cent  from the existing liability of ` 1,87,500/.   149. My third proposal is for the salaried class and the p\n",
      "\n",
      "Page 37:\n",
      "ensioners  including family pensioners, for whom I propose to extend the benefit of\n",
      "\n",
      "Page 38:\n",
      "34       standard deduction to the new tax regime. Each salaried person with an  income of ` 15.5 lakh or more will thus stand to benefit by ` 52,500.  150. My fourth announcement in personal income tax is regarding the  highest tax rate which in our country is 42.74 per cent. This is among the  highest in the world. I propose to reduce the highest surcharge rate from 37  per cent to 25 per cent in the new tax regime. This would result in reduction  of the maximum tax rate to 39 per cent.  151. Lastly, the limit of ` 3 lakh for tax exemption on leave encashment  on retirement of non-government salaried employees was last fixed in the  year 2002, when the highest basic pay in the government was ` 30,000/-  pm. In line with the increase in government salaries, I am proposing to  increase thi\n",
      "\n",
      "Page 38:\n",
      "s limit to ` 25 lakh.  152. We are also making the new income tax regime as the default tax  regime. However, citizens will continue to have the option to avail the  benefit of the old tax regime.  153. Apart from these, I am also making some other changes as given in  the annexure.  154. As a result of these proposals, revenue of about ` 38,000 crore –   ` 37,000 crore in direct taxes and ` 1,000 crore in indirect taxes – will be  forgone while revenue of about ` 3,000 crore will be additionally mobilized.  Thus, the total revenue forgone is about ` 35,000 crore annually.  155. Mr. Speaker Sir, with these words, I commend the Budget to this  august House.  *****\n",
      "\n",
      "Page 39:\n",
      "35       Annexure to Part B of the Budget Speech 2023-24  Amendments relating to Direct Taxes  A. PROVIDING TAX RELIEF  UNDER NEW PERSONAL T AX REGIME   A.1     The new tax regime for Individual and HUF , introduced by the  Finance Act 2020, is now proposed to be the default regime.   A.2      This regime would also become the default regime for AOP (other  than co-operative), BOI and AJP.   A.3      Any individual, HUF, AOP (other than co-operative), BOI or AJP not  willing to be taxed under this new regime can opt to be taxed  under the old regime. For those person having income under the  head “profit and gains of business or profession” and having opted  for old regime can revoke that option only once and after that  they will continue to be taxed under the new regime. For those  not h\n",
      "\n",
      "Page 39:\n",
      "aving income under the head “profit and gains of business or  profession”, option for old regime may be exercised in each year.  A.4      Substantial relief is proposed under the new regime with new slabs  and tax rates as under:  Total Income ( `) Rate (per cent)   Upto 3,00,000  Nil  From 3,00,001 to 6,00,000  5  From 6,00,001 to 9,00,000  10  From 9,00,001 to 12,00,000 15  From 12,00,001 to 15,00,000  20  Above 15,00,000  30    A.5      Resident individual with total income up to ` 5,00,000 do not pay  any tax due to rebate under both old and new regime. It is  proposed to increase the rebate for the resident individual under  the new regime so that they do not pay tax if their total income is  up to ` 7,00,000.  A.6     Standard deduction of ` 50,000 to salaried individual, and\n",
      "\n",
      "Page 40:\n",
      "36       deduction from family pension up to ` 15,000, is currently allowed  only under the old regime. It is proposed to allow these two  deductions under the new regime also.   A.7      Surcharge on income-tax under both old regime and new regime is  10 per cent if income is above ` 5 0 lakh and up to ` 1 crore, 15 per  cent if income is above  `1 crore and up to ` 2 crore, 25 per cent if  income is above ` 2 crore and up to ` 5 crore, and 37 per cent if  income is above ` 5 crore. It is proposed that the for those  individuals, HUF, AOP (other than co-operative), BOI and AJP  under the new regime, surcharge would be same except that the  surcharge rate of 37 per cent will not apply. Highest surcharge  shall be 25 per cent for income above   ` 2 crore. This would reduce the maximum rate \n",
      "\n",
      "Page 40:\n",
      "from about 42.7  per cent to about 39 per cent. No change in surcharge is proposed  for those who opt to be under the old regime.  A.8      Encashment of earned leave up to 10 months of average salary, at  the time of retirement in case of an employee (other than an  employee of the Central Government or State Government), is  exempt under sub-clause (ii) of clause (10AA) of section 10 of the  Income-tax Act (“the Act”) to the extent notified. The maximum  amount which can be exempted is ` 3 lakh at present. It is  proposed to issue notification to extend this limit to ` 25 lakh.   B. SOCIO-ECONOMIC WELFARE MEASURES   B.1 Promoting  timely payments to Micro and Small Enterprises   In order to promote timely payments to micro and small  enterprises, it is proposed to include payments made t\n",
      "\n",
      "Page 40:\n",
      "o such  enterprises within the ambit of section 43B of the Act. Thus,  deduction for such payments would be allowed only when actually  paid. It will be allowed on accrual basis only if the payment is  within the time mandated under the Micro, Small and Medium  Enterprises Development Act.  B.2 Agnipath Scheme, 2022  The payment received from the Agniveer Corpus Fund by the  Agniveers enrolled in Agnipath Scheme, 2022 is proposed to be  exempt from taxes. Deduction in the computation of total income  is proposed to be allowed to the Agniveer on the contribution\n",
      "\n",
      "Page 41:\n",
      "37       made by him or the Central Government to his Seva Nidhi  account.  B.3 Relief to sugar co-operatives from past demand  It is proposed that for sugar co-operatives, for years prior to A.Y.  2016-17, if any deduction claimed for expenditure made on  purchase of sugar has been disallowed, an application may be  made to the Assessing Officer, who shall recompute the income of  the relevant previous year after allowing such deduction up to the  price fixed or approved by the Government for such previous year.   B.4 Increasing threshold limit for Co-operatives to withdraw cash  without TDS  It is proposed to enable co-operatives to withdraw cash up to ` 3  crore in a year without being subjected to TDS on such  withdrawal.   B.5 Penalty for cash loan/transactions against primary co-oper\n",
      "\n",
      "Page 41:\n",
      "atives  It is proposed to  amend section 269SS of the Act to provide that  where a deposit is accepted by a primary agricultural credit  society or a primary co-operative agricultural and rural  development bank from its member or a loan is taken from a  primary agricultural credit society or a primary co-operative  agricultural and rural development bank by its member in cash, no  penal consequence would arise, if the amount of such loan or  deposit in cash is less than  ` 2 lakh. Further, section 269T of the  Act is proposed to be amended to provide that where a deposit is  repaid by a primary agricultural credit society or a primary co- operative agricultural and rural development bank to its member  or such loan is repaid to a primary agricultural credit society or a  primary co-operat\n",
      "\n",
      "Page 41:\n",
      "ive agricultural and rural development bank by  its member in cash, no penal consequence shall arise, if the  amount of such loan or deposit in cash is less than ` 2 lakh.  B.6 Relief to start-ups in carrying forward and setting off of losses  The condition of continuity of at least 51 per cent shareholding for  setting off of carried forward losses is relaxed for an eligible start  up if all the shareholders of the company continue to hold those  shares. At present this relaxation applies for losses incurred during  the period of 7 years from incorporation of such start-up. It is\n",
      "\n",
      "Page 42:\n",
      "38       propos ed to increase this period to 10 years.   B.7 Extension of date of incorporation for eligible start up for  exemption   Certain start-ups are eligible for some tax benefit if they are  incorporated before 1st April, 2023. The period of incorporation of  such eligible start-ups is proposed to be extended by one year to  before 1st April, 2024.   B.8 Gold to Electronic Gold Receipt  The conversion of physical gold to Electronic Gold Receipt and vice  versa is proposed not to be treated as a transfer and not to attract  any capital gains. This would promote investments in electronic  equivalent of gold.  B.9 Incentives to IFSC  Relocation of funds to IFSC has certain tax exemptions, if the  relocation is before 31.03.2023. This date is proposed to be  extended to 31.03.2025. F\n",
      "\n",
      "Page 42:\n",
      "urther, any distributed income from the  offshore derivative instruments entered into with an offshore  banking unit is also proposed to be exempted subject to certain  conditions.  B.10 Exemption to development authorities etc.  It is proposed to provide exemption to any income arising to a  body or authority or board or trust or commission, (not being a  company) which  has been established or constituted by or under  a Central or State Act with the purposes of satisfying the need for  housing or for planning, development or improvement of cities,  towns and villages or for regulating any activity or matter,  irrespective of whether it is carrying out commercial activity.  B.11 Facilitating certain strategic disinvestments  To facilitate certain strategic disinvestments, it is proposed t\n",
      "\n",
      "Page 42:\n",
      "o  allow carry forward of accumulated losses and unabsorbed  depreciation allowance in the case of amalgamation of one or  more banking company with any other banking institution or a  company subsequent to a strategic disinvestment, if such  amalgamation takes place within 5 years of strategic  disinvestment. It is also proposed to modify the definition of  ‘strategic disinvestment’.\n",
      "\n",
      "Page 43:\n",
      "39       B.12  15 per cent concessional tax to promote new manufacturing co - operative society  In order to promote the growth of manufacturing in co-operative  sector, a new co-operative society formed on or after 01.04.2023,  which commences manufacturing or production by 31.03.2024  and do not avail of any specified incentive or deduction, is  proposed to be allowed an option to pay tax at a concessional rate  of 15 per cent similar to what is available to new manufacturing  companies.   C. EASE OF COMPLIANCE   C.1 Ease in claiming deduction on amortization of preliminary  expenditure   At present for claiming amortization of certain preliminary  expenses, the activity is to be carried out either by the assessee or  by a concern approved by the Board. In order to ease the process  of c\n",
      "\n",
      "Page 43:\n",
      "laiming amortization of these expenses it is proposed to  remove the condition of activity in connection with these  expenses to be carried out by a concern approved by the Board.  Format for reporting of such expenses by the assessee shall be  prescribed.  C.2 Increasing threshold limits for presumptive taxation schemes  In order to ease compliance and to promote non-cash  transactions, it is proposed to increase the threshold limits for  presumptive scheme of taxation for eligible businesses from ` 2  crore to ` 3 crore and for specified professions from ` 50 lakh to   ` 75 lakh. The increased limit will apply only in case the amount or  aggregate of the amounts received during the year, in cash, does  not exceed five per cent of the total gross receipts/turnover.  C.3 Extending the scop\n",
      "\n",
      "Page 43:\n",
      "e for deduction of tax at source at lower or nil  rate  It is proposed to allow a taxpayer to obtain certificate of  deduction of tax at source to lower or nil rate on sums on which  tax is required to be deducted under section 194LBA of the Act by  Business Trusts.\n",
      "\n",
      "Page 44:\n",
      "40       D. WIDENING & DEEPENING OF T AX BASE AND ANTI AVOIDANCE   D.1 It is proposed to extend the deemed income accrual provision  relating to sums of money exceeding fifty thousand rupees,  received from residents without consideration to a not ordinarily  resident with effect from 1st April, 2023.  D.2 It is proposed to omit the provision to allow tax exemption to  news agencies set up in India solely for collection and distribution  of news from the financial year 2023-24.   D.3 It is proposed to tax distributed income by business trusts in the  hands of a unit holder (other than dividend, interest or rent which  is already taxable) on which tax is currently avoided both in the  hands of unit holder as well as in the hands of business trust.    D.4 It is proposed to withdraw the exemp\n",
      "\n",
      "Page 44:\n",
      "tion from TDS currently  available on interest payment on listed debentures.  D.5 With respect to presumptive schemes for non-residents, it is  proposed to disallow carried forward and set off of loss computed  as per books of account with presumptive income.  D.6 For online games, it is proposed to provide for TDS and taxability  on net winnings at the time of withdrawal or at the end of the  financial year. Moreover, TDS would be without the threshold of   ` 10,000. For lottery, crossword puzzles games, etc threshold limit  ` 10,000 for TDS shall continue but shall apply to aggregate  winnings during a financial year.  D.7     The rate of TCS for foreign remittances for education and for  medical treatment is proposed to continue to be 5 per cent for  remittances in excess of ` 7 lakh. S\n",
      "\n",
      "Page 44:\n",
      "imilarly, the rate of TCS on  foreign remittances for the purpose of education through loan  from financial institutions is proposed to continue to be 0.5 per  cent in excess of `7 lakh. However, for foreign remittances for  other purposes under LRS and purchase of overseas tour program,  it is proposed to increase the rates of TCS from 5 per cent to 20  per cent.  D.8 Tax on capital gains can be avoided by investing proceeds of such  gains in residential property. This is proposed to be capped at ` 10  crore.\n",
      "\n",
      "Page 45:\n",
      "41       D.9 The income from market linked debentures is proposed to be  taxed as short-term capital gains at the applicable rates.  D.10 It is proposed to provide for some provisions to minimise risk to  revenue due to undervaluation of inventory.  D.11 It is proposed to provide that where aggregate of premium for life  insurance policies (other than ULIP) issued on or after 1st April,  2023 is above ` 5 lakh, income from only those policies with  aggregate premium up to ` 5 lakh shall be exempt. This will not  affect the tax exemption provided to the amount received on the  death of person insured. It will also not affect insurance policies  issued till 31st March, 2023.  D.12 It is proposed to amend provisions for computing capital gains in  case of joint development of property to incl\n",
      "\n",
      "Page 45:\n",
      "ude the amount  received through cheque etc. as consideration.   D.13 While interest paid on borrowed capital for acquiring or improving  a property can, subject to certain conditions, be claimed as  deduction from income, it can also be included in the cost of  acquisition or improvement on transfer, thereby reducing capital  gains. It is proposed to provide that the cost of acquisition or  improvement shall not include the amount of interest claimed  earlier as deduction.  D.14 There are certain assets like intangible assets or rights for which  no consideration has been paid for acquisition and the transfer of  which may result in generation of income. Their cost of acquisition  is proposed to be defined to be NIL.   E. IMPROVING COMPLIANCE AND TAX ADMINISTRATION   E.1 With respect to r\n",
      "\n",
      "Page 45:\n",
      "ectification of orders by the Interim Board of  Settlement, it is proposed to provide that where the time-limit for  amending an order by it or for making an application to it expires  on or after 01.02.2021 but before 01.02.2022, such time-limit shall  stand extended to 30.09.2023.  E.2 To expedite the disposal of certain appeals pending with  Commissioner (Appeals), it is proposed to introduce a new  authority in the rank of Joint Commissioner/ Additional  Commissioner [JCIT(Appeals)], for appeals against certain orders\n",
      "\n",
      "Page 46:\n",
      "42       passed by or with the approval of an authority below the rank of  Joint Commissioner. Certain related and consequential  amendments are also proposed in this regard.   E.3 It is proposed to reduce the minimum time period required to be  provided by the transfer pricing officer to assessee for production  of documents and information from 30 days to 10 days.  E.4 It is proposed to provide for appeal against penalty orders passed  by Commissioner (Appeals) under certain sections of the Act  before the Appellate Tribunal. It is also proposed to provide that  an order under section 263 of the Act passed by the Principal  Chief Commissioner or Chief Commissioner and any rectification  order for the same shall also be appealable before the Appellate  Tribunal. Further, it is proposed to\n",
      "\n",
      "Page 46:\n",
      " enable filing of memorandum  of cross-objections in all classes of cases against which appeal can  be made to the Appellate Tribunal.  E.5 It is proposed to amend section 132 of the Act, dealing with  search and seizure, to allow the authorised officer to take  assistance of specific domain experts like digital forensic  professionals, valuers and services of other professionals like  locksmiths, carpenters etc. during the course of search and also to  aid in accurate estimation of undisclosed income held in the form  of property by the assessee.   E.6 Section 170A of the Act, inserted vide Finance Act, 2022 is  proposed to be substituted to clarify that a modified return shall  be furnished by an entity to whom the order of the business  reorganisation applies, and to introduce provision\n",
      "\n",
      "Page 46:\n",
      "s for assessment  or reassessment in cases where such modified return is furnished.  E.7 It is proposed that an order of assessment may be passed within a  period of 12 months from the end of the relevant assessment year  or the financial year in which updated return is filed, as the case  may be. It is also proposed that in cases where search under  section 132 of the Act or requisition under section 132A of the Act  has been made, the period of limitation of pending assessments  shall be extended by twelve months.   E.8 It is proposed to make amendments to empower the Central  Government to make modifications in the already notified\n",
      "\n",
      "Page 47:\n",
      "43       schemes regarding e -Verification, Dispute Resolution, Advance  Rulings, Appeal and Penalty, at any time to enable better  implementation of such schemes.  E.9 It is proposed to limit the time for furnishing of a return for  reassessment. Further, it is also proposed to  provide that in cases  where search related information is available after 15th March of  any financial year, an additional period of fifteen days shall be  allowed for issuance of notice, for assessment/reassessments etc,  under section 148 of the Act. It is also proposed to clarify that the  specified authority for granting approval shall be Principal Chief  Commissioner or Principal Director General or Chief Commissioner  or Director General.  E.10 It is proposed to provide a penalty of ` 5,000 if there is any \n",
      "\n",
      "Page 47:\n",
      " inaccuracy in the statement of financial transactions submitted by  a prescribed reporting financial institution due to false or  inaccurate information submitted by the account holder.  E.11 It is proposed to amend section 271C and section 276B of the Act  to provide for penalty and prosecution where default in TDS  relates to transaction in kind.  E.12.   It is proposed to amend the time period for filing of appeal against  the order of the Adjudicating authority under Benami Act within a  period of 45 days from the date when such order is received by  the Initiating Officer or the aggrieved person. The definition of  ‘High Court’ is also proposed to be modified to allow  determination of jurisdiction for filing appeal in the case of non- residents.   F. RATIONALISATION   F.1 The restri\n",
      "\n",
      "Page 47:\n",
      "ction on interest deductibility on interest payment to  overseas associated enterprise does not apply to those in the  business of banking and insurance. It is proposed to extend this  benefit to non-banking financial companies, as may be notified.  F.2 TDS on payment of certain income to a non-resident is currently at  the rate of 20 per cent, but the tax rate in treaties may be lower. It  is proposed to allow the benefit of tax treaty at the time of TDS on  such income under section 196A of the Act.\n",
      "\n",
      "Page 48:\n",
      "44       F.3 At present the TDS rate on withdrawal of taxable component from  Employees’ Provident Fund Scheme in non-PAN cases is 30 per  cent. It is proposed to reduce it to 20 per cent, as in other non- PAN cases.  F.4 Sometimes, tax for income of an earlier year is deducted later,  while tax thereon has already been paid in the earlier year.  Amendment is proposed to facilitate such taxpayers to claim  credit of this TDS in the earlier year.   F.5 Higher TDS/TCS rate applies, if the recipient is a non-filer i.e. who  has not furnished his return of income of preceding previous year  and has aggregate of TDS and TCS of ` 50,000 or more. It is  proposed to exclude a person who is not required to furnish the  return of income for such previous year and who is notified by the  Central Gove\n",
      "\n",
      "Page 48:\n",
      "rnment in the Official Gazette in this behalf.  F .6 It is proposed to clarify that the amount of advance tax paid is  reduced only once for computing the interest payable u/s 234B in  the case of an updated return.  F.7 It is proposed to extend taxability of the consideration (share  application money/ share premium) for shares exceeding the face  value of such shares to all investors including non-residents.  F.8 It is proposed to enable prescription of a uniform methodology for  computing the value of perquisite with respect to accommodation  provided by employers to their employees.  F.9 It is proposed to provide a time limit for an SEZ unit to bring the  proceeds from exports of goods or services into India. The filing of  income-tax return is also proposed to be made mandatory for  c\n",
      "\n",
      "Page 48:\n",
      "laiming deduction on export income.  F.10 Due to changes in classification of non-banking financial  companies by the Reserve Bank of India, it is proposed to make  necessary amendments to align such classifications in the Act with  the same.  F.11 It is proposed to clarify that for taxability under section 28 of the  Act as well for tax deduction at source under section 194R of the  Act, the benefit could also be in cash.  F.12 It is proposed to make amendments relating to exemption\n",
      "\n",
      "Page 49:\n",
      "45       provided to charitable trusts and institution to   - provide clarity on tax treatment on replenishment of corpus  and on repayment of loans/borrowings;  - treat only 85 per cent of donation made to another trust as  application;  - omit the redundant provisions related to rolling back of  exemption;  - combine provisional and regular registration in some cases;  - modify the scope of specified violation;  - provide for payment of tax on assets if a trust does not apply  for exemption after getting provisional exemption and for re- exemption after expiry of exemption;  - align of time for furnishing of certain forms;  - clarify that the time provided for furnishing return of income  for claiming exemption shall not include the time provided for  furnishing updated return.  F.13 It \n",
      "\n",
      "Page 49:\n",
      "is proposed to omit certain name-based funds from section 80G  of the Act, which provides for deduction of donation to such funds  from the income of the donor.  F.14 It is proposed to provide that where refund is due to a person,  such refund shall be set off against existing demand, and if  proceedings for assessment or reassessment are pending in such  case, the refund due will be withheld by the Assessing Officer till  the date of assessment or reassessment.   G. OTHERS   G.1 It is proposed to omit section 88 and some of the clauses of  section 10 of the Act which are no longer in force.  G.2 It is proposed to extend tax exemption to Specified Undertaking of  Unit Trust of India (SUUTI) till 30th September, 2023. It is also  proposed to enable the Central Government to notify the date \n",
      "\n",
      "Page 49:\n",
      "of  vacation of office of administrator of SUUTI.  G.3 It is proposed to decriminalize certain acts of omission of  liquidators under section 276A of the Act with effect from 1st  April, 2023.\n",
      "\n",
      "Page 50:\n",
      "46       Annexure to Part B of the Budget Speech 2023-24  Amendments relating to Indirect Taxes    A. LEGISLATIVE CHANGES IN CUSTOMS LAWS   A.1       Amendments in the Customs Act, 1962  Section 25 (4A) is being amended to  exclude certain categories of  conditional customs duty exemptions from the validity period of  two years, such as, notifications issued in relation to multilateral  or bilateral trade agreements; obligations under international  agreements, treaties, conventions including with respect to UN  agencies, diplomats, international organizations; privileges of  constitutional authorities; schemes under Foreign Trade Policy;  Central Government schemes having a validity of more than two  years; re-imports, temporary imports, goods imported as gifts or  personal baggage; any o\n",
      "\n",
      "Page 50:\n",
      "ther duties of Customs under any other  law in force including  IGST levied under section 3(7) of Customs  Tariff Act, 1975, other than duty of customs levied under section  12 of the Customs Act 1962.  Section 127C is being amended to specify a time limit of nine  months from date of filing application for passing final order by  Settlement Commission.   A.2  Amendments in the provisions relating to Anti-Dumping Duty  (ADD), Countervailing Duty (CVD), and Safeguard Measures  Sections 9, 9A, 9C of the Customs Tariff Act are being amended to  clarify the intent and scope of these provisions. They are also  being validated retrospectively with effect from 1st January 1995.  A.3      Amendments in the First Schedule to the Customs Tariff Act, 1975  The First Schedule to the Customs Tariff Act\n",
      "\n",
      "Page 50:\n",
      ", 1975 is being  amended to increase the rates on certain tariff items with effect  from 02.02.2023 and also modify the rates on certain other tariff  items as part of rate rationalisation with effect from date of  assent.  The First Schedule to the Customs Tariff Act is being proposed to  be amended in accordance with HSN 2022 amendments.   New tariff lines are also proposed to be created, which will help in  better identification of millet-based products, mozzarella cheese,  medicinal plants and their parts, certain pesticides, telecom\n",
      "\n",
      "Page 51:\n",
      "47       products, synthetic diamonds, cotton, fertilizer grade urea etc.  This will also help in trade facilitation by better identification of  the above items, getting clarity on availing concessional import  duty through various notifications and thus reducing dwell time.   These changes shall come into effect from 01.05.2023.  A.4     Amendment in the Second Schedule to the Customs Tariff Act,  1975  The Second Schedule (Export Tariff) is being amended to align the  entries under heading 1202 with that of the First Schedule (Import  Tariff) .   B. LEGISLATIVE CHANGES IN GST LAWS   B.1 Decriminalisation  Section 132 and section 138 of CGST Act are being amended, inter  alia, to  -  - raise the minimum threshold of tax amount for launching  prosecution under GST from ` one crore to ` tw\n",
      "\n",
      "Page 51:\n",
      "o crore,  except for the offence of issuance of invoices without supply  of goods or services or both;  - reduce the compounding amount from the present range of  50 per cent  to 150 per cent of tax amount to the range of 25  per cent to 100 per cent;  - decriminalize certain offences specified under clause (g), (j)  and (k) of sub-section (1) of section 132 of CGST Act, 2017,  viz.-  o obstruction or preventing any officer in discharge of his  duties;   o deliberate tempering of material evidence;  o failure to supply the information.  B.2        Facilitate e-commerce for micro enterprises  Amendments are being made in section 10 and section 122 of the  CGST Act to enable unregistered suppliers and composition  taxpayers to make intra-state supply of goods through E- Commerce Operators (E\n",
      "\n",
      "Page 51:\n",
      "COs), subject to certain conditions.   B.3        Amendment to Schedule III of CGST Act, 2017  Paras 7, 8 (a) and 8 (b) were inserted in Schedule III of CGST Act,  2017 with effect from 01.02.2019 to keep certain transactions/  activities, such as supplies of goods from a place outside the  taxable territory to another place outside the taxable territory,  high sea sales and supply of warehoused goods before their home\n",
      "\n",
      "Page 52:\n",
      "48       clearance, outside the purview of GST. In order to remove the  doubts and ambiguities regarding taxability of such transactions/  activities during the period 01.07.2017 to 31.01.2019, provisions  are being incorporated to make the said paras effective from  01.07.2017. However, no refund of tax paid shall be available in  cases where any tax has already been paid in respect of such  transactions/ activities during the period 01.07.2017 to  31.01.2019.  B.4        Return filing under GST   Sections 37, 39, 44 and 52 of CGST Act, 2017 are being amended  to restrict filing of returns/ statements to a maximum period of  three years from the due date of filing of the relevant return /  statement.   B.5        Input Tax Credit for expenditure related to CSR  Section 17(5) of CGST Act i\n",
      "\n",
      "Page 52:\n",
      "s being amended to provide that input  tax credit shall not be available in respect of goods or services or  both received by a taxable person, which are used or intended to  be used for activities relating to his obligations under corporate  social responsibility referred to in section 135 of the Companies  Act, 2013.  B.6        Sharing of information  A new section 158A in CGST Act is being inserted to enable sharing  of the information furnished by the registered person in his return  or application of registration or statement of outward supplies, or  the details uploaded by him for generation of electronic invoice or  E-way bill or any other details on the common portal, with other  systems in a manner to be prescribed  B.7        Amendments in section 2 clause (16) of IGST Act, 2017\n",
      "\n",
      "Page 52:\n",
      "  Clause (16) of section 2 of IGST Act is amended to revise the  definition of “non-taxable online recipient” by removing the  condition of receipt of online information and database access or  retrieval services for purposes other than commerce, industry or  any other business or profession so as to provide for taxability of  OIDAR service provided by any person located in non-taxable  territory to an unregistered person receiving the said services and  located in the taxable territory. Further, it also seeks to clarify that  the persons registered solely in terms of clause (vi) of Section 24  of CGST Act shall be treated as unregistered person for the  purpose of the said clause.\n",
      "\n",
      "Page 53:\n",
      "49       B.8        Online information and database access or retrieval services  Clause (17) of section 2 of IGST Act is being amended to revise the  definition of “online information and database access or retrieval  services” to remove the condition of rendering of the said supply  being essentially automated and involving minimal human  intervention.   B.9        Place of supply in certain cases  Proviso to sub-section (8) of section 12 of the IGST Act is being  omitted so as to specify the place of supply, irrespective of  destination of the goods, in cases where the supplier of services  and recipient of services are located in India.\n",
      "\n",
      "Page 54:\n",
      "50         C. CUSTOMS DUTY RATE CHANGES    C.1. Reduction in basic customs duty to reduce input costs, deepen value  addition, to promote export competitiveness, correct inverted duty  structure so as to boost domestic manufacturing etc [with effect  from 02.02.2023]  S.  No. Commodity  From  (per cent)  To  (per cent)   I. Agricultural Products   1. Pecan Nuts  100  30  2. Fish meal for manufacture of aquatic  feed 15 5  3. Krill meal for manufacture of aquatic  feed 15 5  4. Fish lipid oil for manufacture of aquatic  feed 30 15  5. Algal Prime (flour) for manufacture of  aquatic feed  30 15  6. Mineral and Vitamin Premixes for  manufacture of aquatic feed  15 5  7 Crude glycerin for use in manufacture  of Epichlorohydrin  7.5 2.5  8 Denatured ethyl alcohol for use in  manufacture of indu\n",
      "\n",
      "Page 54:\n",
      "strial chemicals.  5 Nil  II. Minerals   1 Acid grade fluorspar (containing by  weight more than 97 per cent of  calcium fluoride)  5 2.5  III. Gems and Jewellery Sector   1. Seeds for use in manufacturing of  rough lab-grown diamonds  5 Nil\n",
      "\n",
      "Page 55:\n",
      "51       IV. Capital Goods  1. Specified capital goods/machinery for  manufacture of lithium-ion cell for use  in battery of electrically operated  vehicle (EVs) As  applicable Nil   (up to  31.03.2024)   V. IT and Electronics     1. Specified chemicals/items for  manufacture of Pre-calcined Ferrite  Powder 7.5 Nil  (up to  31.03.2024)   2. Palladium Tetra Amine Sulphate for  manufacture of parts of connectors 7.5 Nil  (up to  31.03.2024)   3. Camera lens and its inputs/parts for  use in manufacture of camera module  of cellular mobile phone 2.5 Nil  4. Specified parts for manufacture of  open cell of TV panel 5 2.5  VI. Electronic Appliances  1. Heat coil for manufacture of electric  kitchen chimneys 20 15  VII. Others  1. Warm blood horse imported by sports  person of outstanding eminenc\n",
      "\n",
      "Page 55:\n",
      "e for  training purpose 30 Nil  2. Vehicles, specified automobile  parts/components, sub-systems and  tyres when imported by notified  testing agencies, for the purpose of  testing and/ or certification, subject to  conditions. As  applicable Nil\n",
      "\n",
      "Page 56:\n",
      "52       C.2. Increase in Customs duty [with effect from 02.02.2023]   S. No.  Commodity   Rate of duties   From  (per cent)  To  (per cent)   I. Chemicals  1. Styrene 2  (+0.2 SWS) 2.5  (+0.25  SWS)  2. Vinyl chloride monomer 2  (+0.2 SWS) 2.5  (+0.25  SWS)  II Petrochemical  1 Naphtha 1  (+ 0.1 SWS) 2.5  (+0.25  SWS)   III. Precious Metals  1. Silver (including silver plated with gold  or platinum), unwrought or in semi- manufactured forms, or in powder  form 7.5  (+ 2.5  AIDC+ 0.75  SWS) 10  (+ 5 AIDC+  Nil SWS)  2. Silver dore 6.1  (+ 2.5  AIDC+ 0.61   SWS) 10  (+ 4.35  AIDC+ Nil  SWS)  IV. Gems and Jewellery Sector   1. Articles of Precious Metals such as  gold/silver/platinum 20  (+Nil AIDC  +2 SWS)  25  (+Nil AIDC  +Nil SWS)  2. Imitation Jewellery 20 or `  400/kg.,  whichever is  h\n",
      "\n",
      "Page 56:\n",
      "igher    (+Nil AIDC +2  or ` 40 per  Kg SWS)   25 or `  600/kg.,  whichever is  higher    (+Nil AIDC  +Nil SWS)\n",
      "\n",
      "Page 57:\n",
      "53       S. No.  Commodity   Rate of duties   From  (per cent)  To  (per cent)   V. Automobiles   1 Vehicle (including electric vehicles) in  Semi-Knocked Down (SKD) form . 30  (+3 SWS) 35  (+Nil SWS)  2 Vehicle in Completely Built Unit (CBU)  form, other than with CIF more than  USD 40,000 or with engine capacity  more than 3000 cc for petrol-run  vehicle and more than 2500 cc for  diesel-run vehicles, or with both 60  (+6  SWS) 70  (+Nil SWS)  3 Electrically operated Vehicle in  Completely Built Unit (CBU) form,  other than with CIF value more than  USD 40,000 60  (+ 6 SWS) 70  (+Nil SWS)  VI. Others  1.  Bicycles 30    (+ Nil AIDC  +3 SWS) 35    (+ Nil AIDC  +Nil SWS)  2.  Toys and parts of toys (other than  parts of electronic toys) 60    (+Nil AIDC+  6 SWS) 70    (+Nil AIDC+  Nil SWS)\n",
      "\n",
      "Page 57:\n",
      "  3.  Compounded Rubber  10     25 or `  30/kg.,  whichever is  lower  4.  Electric Kitchen Chimney 7.5   15    * AIDC -Agriculture Infrastructure Development Cess; SWS – Social Welfare  Surcharge\n",
      "\n",
      "Page 58:\n",
      "54       D. CHANGES IN CENTRAL EXCISE  D.1. NCCD Duty rate  on Cigarettes  [with effect from 02.02.2023]     Description of goods  Rate of excise duty   From  (` per 1000  sticks)  To  (` per 1000  sticks)   Other than filter cigarettes, of length not  exceeding 65 mm  200 230  Other than filter cigarettes, of length exceeding  65 mm but not exceeding 70 mm  250 290  Filter cigarettes of length not exceeding 65 mm  440 510  Filter cigarettes of length exceeding 65 mm but  not exceeding 70 mm  440 510  Filter cigarettes of length exceeding 70 mm but  not exceeding 75 mm  545 630  Other cigarettes  735 850  Cigarettes of tobacco substitutes  600 690      D.2. Other changes in Central Excise [with effect from 02.02.2023]  In order to promote green fuel, central excise duty exemption is being \n",
      "\n",
      "Page 58:\n",
      " provided to blended Compressed Natural Gas from so much of the amount  as is equal to the GST paid on Bio Gas/Compressed Bio Gas contained in the  blended CNG .  E. OTHERS  There are few other changes of minor nature. For details of the budget  proposals, the Explanatory Memorandum and other relevant budget  documents may be referred to.  *****\n",
      "\n"
     ]
    }
   ],
   "source": [
    "# Viewing the chunked documents\n",
    "for doc in processed_documents:\n",
    "    print(f\"Page {doc['page']}:\\n{doc['chunk']}\\n\")"
   ]
  },
  {
   "cell_type": "code",
   "execution_count": 9,
   "metadata": {},
   "outputs": [
    {
     "data": {
      "text/plain": [
       "138"
      ]
     },
     "execution_count": 9,
     "metadata": {},
     "output_type": "execute_result"
    }
   ],
   "source": [
    "len(processed_documents)"
   ]
  },
  {
   "cell_type": "markdown",
   "metadata": {},
   "source": [
    "# ***Import embedding model***"
   ]
  },
  {
   "cell_type": "code",
   "execution_count": 10,
   "metadata": {},
   "outputs": [],
   "source": [
    "import ollama\n",
    "model_id = \"llama3.1\""
   ]
  },
  {
   "cell_type": "code",
   "execution_count": 11,
   "metadata": {},
   "outputs": [],
   "source": [
    "os.environ['API_KEY'] = \"llx-YggwDtzmidC98ktS5EkAVDApcwmiMmjP9i634JsjXHwgJWXB\""
   ]
  },
  {
   "cell_type": "markdown",
   "metadata": {},
   "source": [
    "# ***Embedding Model***"
   ]
  },
  {
   "cell_type": "markdown",
   "metadata": {},
   "source": [
    "*Using Ollama as embedding model*"
   ]
  },
  {
   "cell_type": "code",
   "execution_count": 62,
   "metadata": {},
   "outputs": [
    {
     "data": {
      "text/plain": [
       "OllamaEmbeddings(base_url='http://localhost:11434', model='llama3.1', embed_instruction='passage: ', query_instruction='query: ', mirostat=None, mirostat_eta=None, mirostat_tau=None, num_ctx=None, num_gpu=None, num_thread=None, repeat_last_n=None, repeat_penalty=None, temperature=None, stop=None, tfs_z=None, top_k=None, top_p=None, show_progress=False, headers=None, model_kwargs=None)"
      ]
     },
     "execution_count": 62,
     "metadata": {},
     "output_type": "execute_result"
    }
   ],
   "source": [
    "ollama_emb = OllamaEmbeddings(base_url=\"http://localhost:11434\", model=model_id)\n",
    "\n",
    "ollama_emb"
   ]
  },
  {
   "cell_type": "code",
   "execution_count": 66,
   "metadata": {},
   "outputs": [],
   "source": [
    "vectors = ollama_emb.embed_query(\"How are you?\")"
   ]
  },
  {
   "cell_type": "code",
   "execution_count": 14,
   "metadata": {},
   "outputs": [
    {
     "data": {
      "text/plain": [
       "4096"
      ]
     },
     "execution_count": 14,
     "metadata": {},
     "output_type": "execute_result"
    }
   ],
   "source": [
    "len(vectors)"
   ]
  },
  {
   "cell_type": "markdown",
   "metadata": {},
   "source": [
    "# ***Create Vector database***"
   ]
  },
  {
   "cell_type": "code",
   "execution_count": 15,
   "metadata": {},
   "outputs": [],
   "source": [
    "pc = Pinecone(api_key=\"pcsk_wJw8t_FS43XcKyPKnBRHk4YCFv7nJA1XDiaVctvFayLY4mrvu14cEJ48dhSFCbNfFjJrx\")\n",
    "index = pc.Index(\"langchainvector\", host=\"https://langchainvector-depfgyt.svc.aped-4627-b74a.pinecone.io\")\n",
    "\n",
    "# Use the index in PineconeVectorStore\n",
    "vector_store = PineconeVectorStore(index)"
   ]
  },
  {
   "cell_type": "code",
   "execution_count": 16,
   "metadata": {},
   "outputs": [
    {
     "name": "stdout",
     "output_type": "stream",
     "text": [
      "{'indexes': [{'deletion_protection': 'disabled',\n",
      "              'dimension': 4096,\n",
      "              'host': 'langchainvector-depfgyt.svc.aped-4627-b74a.pinecone.io',\n",
      "              'metric': 'cosine',\n",
      "              'name': 'langchainvector',\n",
      "              'spec': {'serverless': {'cloud': 'aws', 'region': 'us-east-1'}},\n",
      "              'status': {'ready': True, 'state': 'Ready'},\n",
      "              'tags': None,\n",
      "              'vector_type': 'dense'}]}\n"
     ]
    }
   ],
   "source": [
    "print(pc.list_indexes())"
   ]
  },
  {
   "cell_type": "code",
   "execution_count": 17,
   "metadata": {},
   "outputs": [
    {
     "data": {
      "text/plain": [
       "PineconeVectorStore(stores_text=True, is_embedding_query=True, flat_metadata=False, api_key=None, index_name=None, environment=None, namespace=None, insert_kwargs={}, add_sparse_vector=False, text_key='text', batch_size=100, remove_text_from_metadata=False)"
      ]
     },
     "execution_count": 17,
     "metadata": {},
     "output_type": "execute_result"
    }
   ],
   "source": [
    "vector_store"
   ]
  },
  {
   "cell_type": "code",
   "execution_count": 18,
   "metadata": {},
   "outputs": [],
   "source": [
    "storage_context = StorageContext.from_defaults(vector_store=vector_store)"
   ]
  },
  {
   "cell_type": "code",
   "execution_count": 19,
   "metadata": {},
   "outputs": [
    {
     "data": {
      "text/plain": [
       "StorageContext(docstore=<llama_index.storage.docstore.simple_docstore.SimpleDocumentStore object at 0x000001DDBDAEB5C0>, index_store=<llama_index.storage.index_store.simple_index_store.SimpleIndexStore object at 0x000001DDBDA73080>, vector_stores={'default': PineconeVectorStore(stores_text=True, is_embedding_query=True, flat_metadata=False, api_key=None, index_name=None, environment=None, namespace=None, insert_kwargs={}, add_sparse_vector=False, text_key='text', batch_size=100, remove_text_from_metadata=False), 'image': <llama_index.vector_stores.simple.SimpleVectorStore object at 0x000001DDBD8687A0>}, graph_store=<llama_index.graph_stores.simple.SimpleGraphStore object at 0x000001DDBD8691C0>)"
      ]
     },
     "execution_count": 19,
     "metadata": {},
     "output_type": "execute_result"
    }
   ],
   "source": [
    "storage_context"
   ]
  },
  {
   "cell_type": "markdown",
   "metadata": {},
   "source": [
    "# ***Preprocess the chunked documents for embedding and storage***"
   ]
  },
  {
   "cell_type": "code",
   "execution_count": 20,
   "metadata": {},
   "outputs": [],
   "source": [
    "def preprocess_documents_for_pinecone(documents: List[Dict], save_path: str):\n",
    "    \"\"\"\n",
    "    Preprocessing the documents to handle the document structure, assign unique IDs, \n",
    "    and prepare for embeddings. Saves the preprocessed documents to a file.\n",
    "    \"\"\"\n",
    "    processed_docs = []\n",
    "    for doc in documents:\n",
    "        # Generate a unique identifier for each chunk\n",
    "        doc_id = f\"page_{doc['page']}_{uuid.uuid4()}\"  # Unique ID combining page number and a random UUID\n",
    "        processed_docs.append({\n",
    "            \"id\": doc_id,\n",
    "            \"page\": doc[\"page\"],\n",
    "            \"chunk\": doc[\"chunk\"],\n",
    "            \"metadata\": {\"page\": doc[\"page\"]}\n",
    "        })\n",
    "\n",
    "    # Save the processed documents to the specified path\n",
    "    with open(save_path, \"w\") as f:\n",
    "        json.dump(processed_docs, f)\n",
    "\n",
    "    print(f\"Processed documents saved to {save_path}\")\n",
    "    return processed_docs"
   ]
  },
  {
   "cell_type": "code",
   "execution_count": 21,
   "metadata": {},
   "outputs": [],
   "source": [
    "save_path = \"final_doc.json\""
   ]
  },
  {
   "cell_type": "code",
   "execution_count": 22,
   "metadata": {},
   "outputs": [
    {
     "name": "stdout",
     "output_type": "stream",
     "text": [
      "Processed documents saved to final_doc.json\n"
     ]
    }
   ],
   "source": [
    "processed_documents_final = preprocess_documents_for_pinecone(processed_documents, save_path) "
   ]
  },
  {
   "cell_type": "code",
   "execution_count": 23,
   "metadata": {},
   "outputs": [
    {
     "name": "stdout",
     "output_type": "stream",
     "text": [
      "Loaded 138 preprocessed documents from final_document.json\n"
     ]
    }
   ],
   "source": [
    "# Load the saved preprocessed documents\n",
    "def load_preprocessed_documents(save_path: str):\n",
    "    with open(save_path, \"r\") as f:\n",
    "        processed_docs = json.load(f)\n",
    "    print(f\"Loaded {len(processed_docs)} preprocessed documents from {save_path}\")\n",
    "    return processed_docs\n",
    "\n",
    "# Example usage\n",
    "final_doc = load_preprocessed_documents(\"final_document.json\")"
   ]
  },
  {
   "cell_type": "code",
   "execution_count": 25,
   "metadata": {},
   "outputs": [
    {
     "data": {
      "text/plain": [
       "138"
      ]
     },
     "execution_count": 25,
     "metadata": {},
     "output_type": "execute_result"
    }
   ],
   "source": [
    "len(final_doc)"
   ]
  },
  {
   "cell_type": "markdown",
   "metadata": {},
   "source": [
    "# ***Embed and Store vectors in Pinecone vector database***"
   ]
  },
  {
   "cell_type": "code",
   "execution_count": 26,
   "metadata": {},
   "outputs": [],
   "source": [
    "# Generate embeddings and store in Pinecone\n",
    "for document in final_doc:\n",
    "    vector_id = document[\"id\"]\n",
    "    chunk_content = document[\"chunk\"]\n",
    "    metadata = document.get(\"metadata\", {})\n",
    "\n",
    "    # Check if the vector already exists in Pinecone\n",
    "    existing_vector = index.fetch(ids=[vector_id])\n",
    "\n",
    "    # If the vector exists, skip upsert (no comparison with metadata)\n",
    "    if vector_id in existing_vector.get(\"vectors\", {}):\n",
    "        continue  # Skip this document\n",
    "\n",
    "    # Get embedding for the content\n",
    "    embedding = ollama_emb.embed_query(chunk_content)  # Adjust based on your embedding model's API\n",
    "\n",
    "    metadata[\"chunk\"] = chunk_content\n",
    "    # Upsert the document and its embedding into Pinecone\n",
    "    index.upsert([(vector_id, embedding, metadata)])"
   ]
  },
  {
   "cell_type": "markdown",
   "metadata": {},
   "source": [
    "# ***Load FLAN-T5 Model***"
   ]
  },
  {
   "cell_type": "code",
   "execution_count": 29,
   "metadata": {},
   "outputs": [
    {
     "name": "stdout",
     "output_type": "stream",
     "text": [
      "FLAN-T5 model and tokenizer loaded successfully!\n"
     ]
    }
   ],
   "source": [
    "# Load the FLAN-T5 model and tokenizer\n",
    "model_name = \"google/flan-t5-large\"\n",
    "tokenizer = T5Tokenizer.from_pretrained(model_name, legacy=False)\n",
    "model = T5ForConditionalGeneration.from_pretrained(model_name)\n",
    "\n",
    "print(\"FLAN-T5 model and tokenizer loaded successfully!\")"
   ]
  },
  {
   "cell_type": "markdown",
   "metadata": {},
   "source": [
    "# ***Retrieve relevant chunks of the query from pinecone database***"
   ]
  },
  {
   "cell_type": "code",
   "execution_count": 43,
   "metadata": {},
   "outputs": [],
   "source": [
    "# Load a pre-trained embedding model for query encoding\n",
    "embedding_model = ollama_emb\n",
    "\n",
    "# Function to retrieve top-k relevant chunks from Pinecone\n",
    "def retrieve_chunks_from_pinecone(query, top_k=5):\n",
    "    \n",
    "    # Encode the query into a vector\n",
    "    query_embedding = embedding_model.embed_query(query)\n",
    "    \n",
    "    # Query Pinecone for the most similar chunks\n",
    "    results = index.query(\n",
    "        vector=query_embedding,\n",
    "        top_k=top_k,\n",
    "        include_metadata=True  # Ensure metadata includes 'chunk' field\n",
    "    )\n",
    "    \n",
    "    # Check if there are results and handle cases with no matches\n",
    "    if not results[\"matches\"]:\n",
    "        print(\"No matches found in the vector database.\")\n",
    "        return []\n",
    "    \n",
    "    # Extract chunk texts and their relevance scores\n",
    "    retrieved_chunks = []\n",
    "    for match in results[\"matches\"]:\n",
    "        chunk_text = match[\"metadata\"].get(\"chunk\", \"\")\n",
    "        score = match.get(\"score\", 0)  # Optional: Include the similarity score\n",
    "        retrieved_chunks.append((chunk_text, score))\n",
    "\n",
    "    # Sort by score (if not already sorted) and return the texts only\n",
    "    retrieved_chunks = sorted(retrieved_chunks, key=lambda x: x[1], reverse=True)\n",
    "    return [chunk[0] for chunk in retrieved_chunks]\n"
   ]
  },
  {
   "cell_type": "markdown",
   "metadata": {},
   "source": [
    "# ***Generate answer for the query using FLAN-T5 Model***"
   ]
  },
  {
   "cell_type": "code",
   "execution_count": 59,
   "metadata": {},
   "outputs": [],
   "source": [
    "def generate_answer(query, retrieved_chunks):\n",
    "    # Combine the query and retrieved chunks into a single input\n",
    "    context = \" \".join(retrieved_chunks)\n",
    "    input_text = f\"question: {query} context: {context}\"\n",
    "    \n",
    "    # Tokenize the input\n",
    "    inputs = tokenizer(input_text, return_tensors=\"pt\", padding=True, truncation=True, \n",
    "    max_length=512  # Ensure it fits within the model's input size\n",
    "    )\n",
    "    \n",
    "    # Generate the answer\n",
    "    output = model.generate(\n",
    "        inputs.input_ids, \n",
    "        max_length=150,  # Adjust max_length to balance brevity and detail\n",
    "        num_beams=5,  # Beam search to generate diverse outputs\n",
    "        early_stopping=True,  # Stop when a complete answer is formed\n",
    "        length_penalty=1.0,  # Adjust for brevity (lower < 1, higher > 1 for longer answers)\n",
    "    )\n",
    "    \n",
    "    # Decode the output\n",
    "    answer = tokenizer.decode(output[0], skip_special_tokens=True)\n",
    "    return answer\n"
   ]
  },
  {
   "cell_type": "code",
   "execution_count": 61,
   "metadata": {},
   "outputs": [
    {
     "name": "stdout",
     "output_type": "stream",
     "text": [
      "Answer: Capital investment outlay is being increased steeply for the third year in a row by 33 per cent to  10 lakh crore, which would be 3.3 per cent of GDP. This will be almost three times the outlay in 2019-20.\n"
     ]
    }
   ],
   "source": [
    "query = \"What are the key highlights of Budget 2023-2024?\"\n",
    "retrieved_chunks = retrieve_chunks_from_pinecone(query, top_k=5)\n",
    "if retrieved_chunks:\n",
    "    answer = generate_answer(query, retrieved_chunks)\n",
    "    print(\"Answer:\", answer)\n",
    "else:\n",
    "    print(\"No relevant chunks found for the query.\")\n"
   ]
  },
  {
   "cell_type": "code",
   "execution_count": null,
   "metadata": {},
   "outputs": [],
   "source": []
  }
 ],
 "metadata": {
  "kernelspec": {
   "display_name": "myvenv",
   "language": "python",
   "name": "python3"
  },
  "language_info": {
   "codemirror_mode": {
    "name": "ipython",
    "version": 3
   },
   "file_extension": ".py",
   "mimetype": "text/x-python",
   "name": "python",
   "nbconvert_exporter": "python",
   "pygments_lexer": "ipython3",
   "version": "3.12.7"
  }
 },
 "nbformat": 4,
 "nbformat_minor": 2
}
